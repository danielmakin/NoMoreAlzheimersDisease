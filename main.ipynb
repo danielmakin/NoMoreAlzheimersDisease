{
 "cells": [
  {
   "cell_type": "markdown",
   "metadata": {},
   "source": [
    "# No More Alzheimer's Disease"
   ]
  },
  {
   "cell_type": "markdown",
   "metadata": {},
   "source": [
    "## Data Downloading\n",
    "\n",
    "Reads all of the files and attempts to merge them based on the *VISCODE* and *RID* attributes. This features some basic data cleaning to allow the classifier to function."
   ]
  },
  {
   "cell_type": "code",
   "execution_count": null,
   "metadata": {},
   "outputs": [],
   "source": [
    "# Imports\n",
    "import pandas as pd"
   ]
  },
  {
   "cell_type": "code",
   "execution_count": 13,
   "metadata": {},
   "outputs": [
    {
     "name": "stderr",
     "output_type": "stream",
     "text": [
      "/var/folders/9h/tqk_65w50d95gtyf68q0hv880000gn/T/ipykernel_1931/527764360.py:2: DtypeWarning: Columns (20,105) have mixed types. Specify dtype option on import or set low_memory=False.\n",
      "  ADNI_Merge = pd.read_csv('Data/ADNIMERGE_15Jun2023.csv')\n"
     ]
    }
   ],
   "source": [
    "# Read the two files that are necessary\n",
    "ADNI_Merge = pd.read_csv('Data/ADNIMERGE_15Jun2023.csv')\n",
    "UPENN_Plasma = pd.read_csv('Data/Plasma/UPENNPLASMA_27Nov2023.csv')\n",
    "\n",
    "# Now merge these two files and remove any rows that have null values\n",
    "merged_data = pd.merge(UPENN_Plasma, ADNI_Merge[['RID', 'VISCODE', 'DX']], on=['RID', 'VISCODE'], how='left').dropna()\n",
    "# Update Stamp is not relevant for this test\n",
    "merged_data.drop('update_stamp', axis=1, inplace=True)\n",
    "# We are not interested in classifying dementia\n",
    "merged_data = merged_data.replace(\"Dementia\", \"AD\")\n",
    "merged_data.to_csv('Data/TempFiles/mergeddata.csv')"
   ]
  },
  {
   "cell_type": "markdown",
   "metadata": {},
   "source": [
    "# Construct the Classifier"
   ]
  },
  {
   "cell_type": "code",
   "execution_count": null,
   "metadata": {},
   "outputs": [],
   "source": [
    "#independant\n",
    "X = merged_data.iloc[:, [2, 3, 4, 5, 6]].values\n",
    "#dependant\n",
    "y = merged_data.iloc[:, 1].values"
   ]
  }
 ],
 "metadata": {
  "kernelspec": {
   "display_name": "Python 3",
   "language": "python",
   "name": "python3"
  },
  "language_info": {
   "codemirror_mode": {
    "name": "ipython",
    "version": 3
   },
   "file_extension": ".py",
   "mimetype": "text/x-python",
   "name": "python",
   "nbconvert_exporter": "python",
   "pygments_lexer": "ipython3",
   "version": "3.9.6"
  }
 },
 "nbformat": 4,
 "nbformat_minor": 2
}
