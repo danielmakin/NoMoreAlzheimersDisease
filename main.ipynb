{
 "cells": [
  {
   "cell_type": "markdown",
   "metadata": {},
   "source": [
    "# No More Alzheimer's Disease"
   ]
  },
  {
   "cell_type": "markdown",
   "metadata": {},
   "source": [
    "## Pre-Processing"
   ]
  },
  {
   "cell_type": "code",
   "execution_count": 34,
   "metadata": {},
   "outputs": [
    {
     "name": "stdout",
     "output_type": "stream",
     "text": [
      "    RID VISCODE VISCODE2_0  EXAMDATE_0 BOX_POS_4    VOL_4  PLASMA_NFL_4  \\\n",
      "0    14      bl         bl  2005-11-04     3-100  0.50 ML          39.3   \n",
      "1   190      bl         bl  2006-05-16     2-100  0.50 ML          29.4   \n",
      "2   222      bl         bl  2006-03-17     1-100  0.50 ML          54.3   \n",
      "3  1309      bl         bl  2007-02-28     4-100  0.50 ML          27.1   \n",
      "4  1321      bl         bl  2007-03-14     5-100  0.50 ML          49.7   \n",
      "\n",
      "  COMMENTS_4         update_stamp_0 VISCODE2_1  ... ABETA40 GFAP  \\\n",
      "0        NaN  2016-09-29 16:20:35.0        NaN  ...     NaN  NaN   \n",
      "1        NaN  2016-09-29 16:20:35.0        NaN  ...     NaN  NaN   \n",
      "2        NaN  2016-09-29 16:20:35.0        NaN  ...     NaN  NaN   \n",
      "3        NaN  2016-09-29 16:20:35.0        NaN  ...     NaN  NaN   \n",
      "4        NaN  2016-09-29 16:20:35.0        NaN  ...     NaN  NaN   \n",
      "\n",
      "  update_stamp_4 VISCODE2    EXAMDATE BOX_POS_5    VOL_5 PLASMA_NFL_5  \\\n",
      "0            NaN       bl  2005-11-04     3-100  0.50 ML         39.3   \n",
      "1            NaN       bl  2006-05-16     2-100  0.50 ML         29.4   \n",
      "2            NaN       bl  2006-03-17     1-100  0.50 ML         54.3   \n",
      "3            NaN       bl  2007-02-28     4-100  0.50 ML         27.1   \n",
      "4            NaN       bl  2007-03-14     5-100  0.50 ML         49.7   \n",
      "\n",
      "  COMMENTS_5         update_stamp_5  \n",
      "0        NaN  2018-10-05 09:07:12.0  \n",
      "1        NaN  2018-10-05 09:07:12.0  \n",
      "2        NaN  2018-10-05 09:07:12.0  \n",
      "3        NaN  2018-10-05 09:07:13.0  \n",
      "4        NaN  2018-10-05 09:07:13.0  \n",
      "\n",
      "[5 rows x 48 columns]\n"
     ]
    }
   ],
   "source": [
    "# Imports\n",
    "import os\n",
    "import pandas as pd\n",
    "\n",
    "def read_all_files(directory=\"Data/Plasma\", axis=[\"VISCODE\", \"RID\"]):\n",
    "    '''\n",
    "        This reads all of the .csv files in the directory and outputs them. \n",
    "        \n",
    "        Args : directory(String) : the path of the files to be read\n",
    "        Returns : data(DataFrame) : The sum of the dataframes.'''\n",
    "\n",
    "    # Get the name of every file in the directory\n",
    "    files = os.listdir(directory)\n",
    "    csv_files = list(filter(lambda f: f.endswith('.csv'), files))\n",
    "\n",
    "    df = pd.read_csv(directory + \"/\" + csv_files[0])\n",
    "\n",
    "    # Read all of the file directories in the folder\n",
    "    for i in range(1, len(csv_files)):\n",
    "        temp_df = pd.read_csv(directory + \"/\" + csv_files[i])\n",
    "        # df should be meregd with the previously constructed one\n",
    "        df = pd.merge(df, temp_df, on=axis, suffixes=('_' + str(i-1), '_' + str(i)), how=\"outer\")\n",
    "\n",
    "\n",
    "    print(df.head())\n",
    "\n",
    "\n",
    "\n",
    "\n",
    "read_all_files()\n",
    "    \n"
   ]
  }
 ],
 "metadata": {
  "kernelspec": {
   "display_name": "Python 3",
   "language": "python",
   "name": "python3"
  },
  "language_info": {
   "codemirror_mode": {
    "name": "ipython",
    "version": 3
   },
   "file_extension": ".py",
   "mimetype": "text/x-python",
   "name": "python",
   "nbconvert_exporter": "python",
   "pygments_lexer": "ipython3",
   "version": "3.9.6"
  }
 },
 "nbformat": 4,
 "nbformat_minor": 2
}
