{
 "cells": [
  {
   "cell_type": "markdown",
   "metadata": {},
   "source": [
    "# No More Alzheimer's Disease"
   ]
  },
  {
   "cell_type": "markdown",
   "metadata": {},
   "source": [
    "## Data Downloading"
   ]
  },
  {
   "cell_type": "code",
   "execution_count": 365,
   "metadata": {},
   "outputs": [],
   "source": [
    "# Imports\n",
    "import pandas as pd\n",
    "from sklearn.model_selection import train_test_split\n",
    "from sklearn.preprocessing import StandardScaler\n",
    "from sklearn.svm import SVC\n",
    "from sklearn.metrics import confusion_matrix, accuracy_score\n",
    "from timeit import default_timer as timer"
   ]
  },
  {
   "cell_type": "code",
   "execution_count": 374,
   "metadata": {},
   "outputs": [],
   "source": [
    "def create_test_files():\n",
    "    '''This function reads and does some pre-processing for the data files provided.'''\n",
    "    \n",
    "    ugot = pd.read_csv(\"Data/Plasma/UGOTPTAU181_06_18_20_27Nov2023.csv\")\n",
    "    upenn = pd.read_csv(\"Data/Plasma/UPENNPLASMA_27Nov2023.csv\")\n",
    "    # Read the labels that will be used for both of the files\n",
    "    labels = pd.read_csv('Data/ADNIMERGE_15Jun2023.csv')[['RID', 'VISCODE', 'DX']]\n",
    "\n",
    "    # Now merge these two files and remove any rows that have null values\n",
    "    ugot = pd.merge(ugot, labels[['RID', 'VISCODE', 'DX']], on=['RID', 'VISCODE'], how='left').dropna(subset=['RID', 'PLASMAPTAU181', 'DX'])\n",
    "    upenn = pd.merge(upenn, labels[['RID', 'VISCODE', 'DX']], on=['RID', 'VISCODE'], how='left').dropna()\n",
    "    # Update Stamp is not relevant for this test\n",
    "    ugot.drop(['update_stamp', 'VISCODE', 'VISCODE2', 'COMMENT', 'VID', 'EXAMDATE'], axis=1, inplace=True)\n",
    "    # This puts the labels in the same format used for the tests\n",
    "    ugot = ugot.replace(\"Dementia\", \"AD\").replace(\"CN\", \"SCD\")\n",
    "    ugot.to_csv(\"Data/ProcessedData/UGOT.csv\", index=False)\n",
    "\n",
    "    upenn.drop(['update_stamp', 'VISCODE'], axis=1, inplace=True)\n",
    "    # This puts the labels in the same format used for the tests\n",
    "    upenn = upenn.replace(\"Dementia\", \"AD\").replace(\"CN\", \"SCD\")\n",
    "    upenn.to_csv(\"Data/ProcessedData/UPENN.csv\", index=False)\n",
    "\n",
    "create_test_files()"
   ]
  },
  {
   "cell_type": "code",
   "execution_count": 367,
   "metadata": {},
   "outputs": [],
   "source": [
    "def read_and_merge(labelsDir, featuresDir, fieldsToDrop, savePath = None):\n",
    "    '''\n",
    "     Reads all of the files and attempts to merge them based on the VISCODE and RID attributes. \n",
    "     This features some basic data cleaning to allow the classifier to function. \n",
    "     \n",
    "     Args :\n",
    "        labelsDir (String) : Directory path to the label data.\n",
    "        featuresDir (String) : Directory path to feature data.\n",
    "        fieldsToDrop (String[]) : List of fields to drop.\n",
    "     Returns :\n",
    "        SCD, MCI, AD (DataFrame) : Retuns a DataFrame of each class.'''\n",
    "\n",
    "    # Read the two files that are necessary\n",
    "    features = pd.read_csv(featuresDir)\n",
    "    labels = pd.read_csv(labelsDir)\n",
    "\n",
    "    # Now merge these two files and remove any rows that have null values\n",
    "    merged_data = pd.merge(features, labels[['RID', 'VISCODE', 'DX']], on=['RID', 'VISCODE'], how='left').dropna(subset=['RID', 'PLASMAPTAU181', 'DX'])\n",
    "    # Update Stamp is not relevant for this test\n",
    "    merged_data.drop(fieldsToDrop, axis=1, inplace=True)\n",
    "    # We are not interested in classifying dementia\n",
    "    merged_data = merged_data.replace(\"Dementia\", \"AD\").replace(\"CN\", \"SCD\")\n",
    "\n",
    "    MCI = merged_data.loc[merged_data[\"DX\"] == \"MCI\"]\n",
    "    SCD = merged_data.loc[merged_data[\"DX\"] == \"SCD\"]\n",
    "    AD = merged_data.loc[merged_data[\"DX\"] == \"AD\"]\n",
    "\n",
    "    if savePath != None:\n",
    "        merged_data.to_csv(savePath, index=False)\n",
    "\n",
    "    return SCD, MCI, AD\n",
    "\n",
    "    "
   ]
  },
  {
   "cell_type": "markdown",
   "metadata": {},
   "source": [
    "# Construct the Classifier"
   ]
  },
  {
   "cell_type": "code",
   "execution_count": 368,
   "metadata": {},
   "outputs": [],
   "source": [
    "def getXy(df):\n",
    "    '''\n",
    "    Seperate the label from the feature data.\n",
    "    \n",
    "    Args : \n",
    "        df (DataFrame) : The data to be seperated\n",
    "    Returns :\n",
    "        X (DataFrame) : The feature data.\n",
    "        y (list) : The labels associated.'''\n",
    "    \n",
    "    # Independant\n",
    "    X = df.drop(df.columns[-1], axis=1).values\n",
    "    # Dependant\n",
    "    y = df.iloc[:, -1].values\n",
    "\n",
    "    return X, y"
   ]
  },
  {
   "cell_type": "code",
   "execution_count": 369,
   "metadata": {},
   "outputs": [],
   "source": [
    "def split_test_data(SCD, MCI, AD, TestingFactor = 0.25):\n",
    "    '''\n",
    "        Now we seperate the training and testing data. Currently using a 25% training test split.\n",
    "\n",
    "        Args : \n",
    "            SCD, MCI, AD (DataFrame) : Data to be split, already split into classes.\n",
    "            TestingFactor (int) [OPTIONAL] : Amount of data put in testing.\n",
    "        Returns :\n",
    "            SCD, MCI, AD, TestData (DataFrame) : Each of the sections of data.\n",
    "    \n",
    "    '''\n",
    "\n",
    "    SCD, TempSCD = train_test_split(SCD, test_size=TestingFactor)\n",
    "    MCI, TempMCI = train_test_split(MCI, test_size=TestingFactor)\n",
    "    AD, TempAD = train_test_split(AD, test_size=TestingFactor)\n",
    "\n",
    "    # concatenate the lists\n",
    "    TempData = [TempSCD, TempMCI, TempAD]\n",
    "    TestData = pd.concat(TempData)\n",
    "\n",
    "    # return required info\n",
    "    return SCD, MCI, AD, TestData"
   ]
  },
  {
   "cell_type": "code",
   "execution_count": 370,
   "metadata": {},
   "outputs": [],
   "source": [
    "def construct_svm(df1, df2):\n",
    "    '''\n",
    "        Constructs an SVM with the datasets provided.\n",
    "\n",
    "        Args :\n",
    "            Datasets (DataFrame) : Two DataFrames that the SVM must be made upon.\n",
    "        Returns :\n",
    "            Classifier (SVC) : This is the margin that the data must be acted upon.\n",
    "            Scaler (StandardScaler) : Used in testing.\n",
    "    '''\n",
    "\n",
    "    # First the two dataframes should be combined\n",
    "    df = [df1, df2]\n",
    "    df = pd.concat(df)\n",
    "    # Get data in the format required\n",
    "    X, y = getXy(df)\n",
    "    # Train the classifier\n",
    "    sc = StandardScaler()\n",
    "    X = sc.fit_transform(X)\n",
    "    # Fit to the classifier\n",
    "    classifier = SVC(kernel='rbf', random_state=0)\n",
    "    classifier.fit(X, y)\n",
    "\n",
    "    return classifier, sc"
   ]
  },
  {
   "cell_type": "code",
   "execution_count": 371,
   "metadata": {},
   "outputs": [],
   "source": [
    "def test(classifier, scaler, X):\n",
    "    '''\n",
    "        Test the dataset with each individual SVM\n",
    "\n",
    "        Args :\n",
    "            classifier (SVM) : The Support Vector Machine used for this test\n",
    "            scaler (StandardScaler) : This allows the test data to be scaled to the same proportions as the test data\n",
    "            X (DataFrame) : The feature data WITHOUT labels\n",
    "        Returns :\n",
    "            y_pred (list) : the predicted y-value for each item\n",
    "    '''\n",
    "    # now perform the classification\n",
    "    X = scaler.fit_transform(X)\n",
    "    y_pred = classifier.predict(X)\n",
    "    # return the result of this transaction\n",
    "    return y_pred"
   ]
  },
  {
   "cell_type": "code",
   "execution_count": 372,
   "metadata": {},
   "outputs": [],
   "source": [
    "def bdt(file_path):\n",
    "    '''\n",
    "        Perform the Binary Decision Tree SVM classification method\n",
    "        \n",
    "        Args :\n",
    "            file_path (String) : Path to the data\n",
    "        Returns :\n",
    "            time (float) : Time taken to perform the test.\n",
    "            accuracy (float) : The accuracy of the model.\n",
    "            confusion_matrix = Confusion matrix for the accuracy.'''\n",
    "    \n",
    "    start = timer()\n",
    "    # read the dataframe and clean\n",
    "\n",
    "    # FOR UGOT\n",
    "    SCD, MCI, AD = read_and_merge('Data/ADNIMERGE_15Jun2023.csv', file_path, ['update_stamp', 'VISCODE', 'VISCODE2', 'COMMENT', 'VID', 'EXAMDATE'], 'Data/TempFiles/mergeddata.csv')\n",
    "    # FOR UPENN\n",
    "    SCD, MCI, AD = read_and_merge('Data/ADNIMERGE_15Jun2023.csv', file_path, ['update_stamp', 'VISCODE'], 'Data/TempFiles/mergeddata.csv')\n",
    "    # get the test data required, leave training data\n",
    "    SCD, MCI, AD, TestData = split_test_data(SCD, MCI, AD)\n",
    "    \n",
    "\n",
    "    # seperate the labels and the data features\n",
    "    X_test, y_test = getXy(TestData)\n",
    "\n",
    "    # Concatenate MCI\n",
    "    MCIoAD = [MCI, AD]\n",
    "    MCIoAD = pd.concat(MCIoAD)\n",
    "    # Map to the same class\n",
    "    MCIoAD = MCIoAD.replace(\"MCI\", \"MCIoAD\").replace(\"AD\", \"MCIoAD\")\n",
    "\n",
    "    # Test to perform the first step of the DT\n",
    "    SCDMCIAD, scalersma = construct_svm(SCD, MCIoAD)\n",
    "    # SVM for the second level of the BDT\n",
    "    MCIAD, scalarma = construct_svm(MCI, AD)\n",
    "\n",
    "    # Perform the test for the first level of BDT\n",
    "    SCDoMCIAD = test(SCDMCIAD, scalersma, X_test)\n",
    "\n",
    "    # Now run entire set through the MCI, AD classifier. \n",
    "    # However, only the non-SCD items in the previous test will be used\n",
    "    MCIoAD = test(MCIAD, scalarma, X_test)\n",
    "\n",
    "    # Now colalate the results together taking the two classifiers into account\n",
    "    results = []\n",
    "    \n",
    "    for i in range(len(SCDoMCIAD)):\n",
    "        if SCDoMCIAD[i] == 'SCD':\n",
    "            results.append('SCD')\n",
    "        else:\n",
    "            # Adds the result of the second level\n",
    "            results.append(MCIoAD[i])\n",
    "\n",
    "    # Print out the time taken and results\n",
    "    end = timer()\n",
    "    print(\"Time Taken : \" + str(end-start))\n",
    "\n",
    "    # construct a confusion matrix\n",
    "    cm = confusion_matrix(y_test, results)\n",
    "    print(cm)\n",
    "    print(\"Accuracy : \" + str(accuracy_score(y_test, results)))"
   ]
  },
  {
   "cell_type": "code",
   "execution_count": 373,
   "metadata": {},
   "outputs": [
    {
     "name": "stderr",
     "output_type": "stream",
     "text": [
      "/var/folders/9h/tqk_65w50d95gtyf68q0hv880000gn/T/ipykernel_14558/396711615.py:15: DtypeWarning: Columns (20,105) have mixed types. Specify dtype option on import or set low_memory=False.\n",
      "  labels = pd.read_csv(labelsDir)\n",
      "/var/folders/9h/tqk_65w50d95gtyf68q0hv880000gn/T/ipykernel_14558/396711615.py:15: DtypeWarning: Columns (20,105) have mixed types. Specify dtype option on import or set low_memory=False.\n",
      "  labels = pd.read_csv(labelsDir)\n"
     ]
    },
    {
     "ename": "ValueError",
     "evalue": "could not convert string to float: 'm96'",
     "output_type": "error",
     "traceback": [
      "\u001b[0;31m---------------------------------------------------------------------------\u001b[0m",
      "\u001b[0;31mValueError\u001b[0m                                Traceback (most recent call last)",
      "\u001b[1;32m/Users/danielmakin/Documents/Alzhiemers/NoMoreAlzheimersDisease/main.ipynb Cell 12\u001b[0m line \u001b[0;36m1\n\u001b[0;32m----> <a href='vscode-notebook-cell:/Users/danielmakin/Documents/Alzhiemers/NoMoreAlzheimersDisease/main.ipynb#X13sZmlsZQ%3D%3D?line=0'>1</a>\u001b[0m bdt(\u001b[39m\"\u001b[39;49m\u001b[39mData/Plasma/UGOTPTAU181_06_18_20_27Nov2023.csv\u001b[39;49m\u001b[39m\"\u001b[39;49m)\n",
      "\u001b[1;32m/Users/danielmakin/Documents/Alzhiemers/NoMoreAlzheimersDisease/main.ipynb Cell 12\u001b[0m line \u001b[0;36m3\n\u001b[1;32m     <a href='vscode-notebook-cell:/Users/danielmakin/Documents/Alzhiemers/NoMoreAlzheimersDisease/main.ipynb#X13sZmlsZQ%3D%3D?line=29'>30</a>\u001b[0m MCIoAD \u001b[39m=\u001b[39m MCIoAD\u001b[39m.\u001b[39mreplace(\u001b[39m\"\u001b[39m\u001b[39mMCI\u001b[39m\u001b[39m\"\u001b[39m, \u001b[39m\"\u001b[39m\u001b[39mMCIoAD\u001b[39m\u001b[39m\"\u001b[39m)\u001b[39m.\u001b[39mreplace(\u001b[39m\"\u001b[39m\u001b[39mAD\u001b[39m\u001b[39m\"\u001b[39m, \u001b[39m\"\u001b[39m\u001b[39mMCIoAD\u001b[39m\u001b[39m\"\u001b[39m)\n\u001b[1;32m     <a href='vscode-notebook-cell:/Users/danielmakin/Documents/Alzhiemers/NoMoreAlzheimersDisease/main.ipynb#X13sZmlsZQ%3D%3D?line=31'>32</a>\u001b[0m \u001b[39m# Test to perform the first step of the DT\u001b[39;00m\n\u001b[0;32m---> <a href='vscode-notebook-cell:/Users/danielmakin/Documents/Alzhiemers/NoMoreAlzheimersDisease/main.ipynb#X13sZmlsZQ%3D%3D?line=32'>33</a>\u001b[0m SCDMCIAD, scalersma \u001b[39m=\u001b[39m construct_svm(SCD, MCIoAD)\n\u001b[1;32m     <a href='vscode-notebook-cell:/Users/danielmakin/Documents/Alzhiemers/NoMoreAlzheimersDisease/main.ipynb#X13sZmlsZQ%3D%3D?line=33'>34</a>\u001b[0m \u001b[39m# SVM for the second level of the BDT\u001b[39;00m\n\u001b[1;32m     <a href='vscode-notebook-cell:/Users/danielmakin/Documents/Alzhiemers/NoMoreAlzheimersDisease/main.ipynb#X13sZmlsZQ%3D%3D?line=34'>35</a>\u001b[0m MCIAD, scalarma \u001b[39m=\u001b[39m construct_svm(MCI, AD)\n",
      "\u001b[1;32m/Users/danielmakin/Documents/Alzhiemers/NoMoreAlzheimersDisease/main.ipynb Cell 12\u001b[0m line \u001b[0;36m1\n\u001b[1;32m     <a href='vscode-notebook-cell:/Users/danielmakin/Documents/Alzhiemers/NoMoreAlzheimersDisease/main.ipynb#X13sZmlsZQ%3D%3D?line=16'>17</a>\u001b[0m \u001b[39m# Train the classifier\u001b[39;00m\n\u001b[1;32m     <a href='vscode-notebook-cell:/Users/danielmakin/Documents/Alzhiemers/NoMoreAlzheimersDisease/main.ipynb#X13sZmlsZQ%3D%3D?line=17'>18</a>\u001b[0m sc \u001b[39m=\u001b[39m StandardScaler()\n\u001b[0;32m---> <a href='vscode-notebook-cell:/Users/danielmakin/Documents/Alzhiemers/NoMoreAlzheimersDisease/main.ipynb#X13sZmlsZQ%3D%3D?line=18'>19</a>\u001b[0m X \u001b[39m=\u001b[39m sc\u001b[39m.\u001b[39;49mfit_transform(X)\n\u001b[1;32m     <a href='vscode-notebook-cell:/Users/danielmakin/Documents/Alzhiemers/NoMoreAlzheimersDisease/main.ipynb#X13sZmlsZQ%3D%3D?line=19'>20</a>\u001b[0m \u001b[39m# Fit to the classifier\u001b[39;00m\n\u001b[1;32m     <a href='vscode-notebook-cell:/Users/danielmakin/Documents/Alzhiemers/NoMoreAlzheimersDisease/main.ipynb#X13sZmlsZQ%3D%3D?line=20'>21</a>\u001b[0m classifier \u001b[39m=\u001b[39m SVC(kernel\u001b[39m=\u001b[39m\u001b[39m'\u001b[39m\u001b[39mrbf\u001b[39m\u001b[39m'\u001b[39m, random_state\u001b[39m=\u001b[39m\u001b[39m0\u001b[39m)\n",
      "File \u001b[0;32m~/Library/Python/3.9/lib/python/site-packages/sklearn/utils/_set_output.py:157\u001b[0m, in \u001b[0;36m_wrap_method_output.<locals>.wrapped\u001b[0;34m(self, X, *args, **kwargs)\u001b[0m\n\u001b[1;32m    155\u001b[0m \u001b[39m@wraps\u001b[39m(f)\n\u001b[1;32m    156\u001b[0m \u001b[39mdef\u001b[39;00m \u001b[39mwrapped\u001b[39m(\u001b[39mself\u001b[39m, X, \u001b[39m*\u001b[39margs, \u001b[39m*\u001b[39m\u001b[39m*\u001b[39mkwargs):\n\u001b[0;32m--> 157\u001b[0m     data_to_wrap \u001b[39m=\u001b[39m f(\u001b[39mself\u001b[39;49m, X, \u001b[39m*\u001b[39;49margs, \u001b[39m*\u001b[39;49m\u001b[39m*\u001b[39;49mkwargs)\n\u001b[1;32m    158\u001b[0m     \u001b[39mif\u001b[39;00m \u001b[39misinstance\u001b[39m(data_to_wrap, \u001b[39mtuple\u001b[39m):\n\u001b[1;32m    159\u001b[0m         \u001b[39m# only wrap the first output for cross decomposition\u001b[39;00m\n\u001b[1;32m    160\u001b[0m         return_tuple \u001b[39m=\u001b[39m (\n\u001b[1;32m    161\u001b[0m             _wrap_data_with_container(method, data_to_wrap[\u001b[39m0\u001b[39m], X, \u001b[39mself\u001b[39m),\n\u001b[1;32m    162\u001b[0m             \u001b[39m*\u001b[39mdata_to_wrap[\u001b[39m1\u001b[39m:],\n\u001b[1;32m    163\u001b[0m         )\n",
      "File \u001b[0;32m~/Library/Python/3.9/lib/python/site-packages/sklearn/base.py:916\u001b[0m, in \u001b[0;36mTransformerMixin.fit_transform\u001b[0;34m(self, X, y, **fit_params)\u001b[0m\n\u001b[1;32m    912\u001b[0m \u001b[39m# non-optimized default implementation; override when a better\u001b[39;00m\n\u001b[1;32m    913\u001b[0m \u001b[39m# method is possible for a given clustering algorithm\u001b[39;00m\n\u001b[1;32m    914\u001b[0m \u001b[39mif\u001b[39;00m y \u001b[39mis\u001b[39;00m \u001b[39mNone\u001b[39;00m:\n\u001b[1;32m    915\u001b[0m     \u001b[39m# fit method of arity 1 (unsupervised transformation)\u001b[39;00m\n\u001b[0;32m--> 916\u001b[0m     \u001b[39mreturn\u001b[39;00m \u001b[39mself\u001b[39;49m\u001b[39m.\u001b[39;49mfit(X, \u001b[39m*\u001b[39;49m\u001b[39m*\u001b[39;49mfit_params)\u001b[39m.\u001b[39mtransform(X)\n\u001b[1;32m    917\u001b[0m \u001b[39melse\u001b[39;00m:\n\u001b[1;32m    918\u001b[0m     \u001b[39m# fit method of arity 2 (supervised transformation)\u001b[39;00m\n\u001b[1;32m    919\u001b[0m     \u001b[39mreturn\u001b[39;00m \u001b[39mself\u001b[39m\u001b[39m.\u001b[39mfit(X, y, \u001b[39m*\u001b[39m\u001b[39m*\u001b[39mfit_params)\u001b[39m.\u001b[39mtransform(X)\n",
      "File \u001b[0;32m~/Library/Python/3.9/lib/python/site-packages/sklearn/preprocessing/_data.py:839\u001b[0m, in \u001b[0;36mStandardScaler.fit\u001b[0;34m(self, X, y, sample_weight)\u001b[0m\n\u001b[1;32m    837\u001b[0m \u001b[39m# Reset internal state before fitting\u001b[39;00m\n\u001b[1;32m    838\u001b[0m \u001b[39mself\u001b[39m\u001b[39m.\u001b[39m_reset()\n\u001b[0;32m--> 839\u001b[0m \u001b[39mreturn\u001b[39;00m \u001b[39mself\u001b[39;49m\u001b[39m.\u001b[39;49mpartial_fit(X, y, sample_weight)\n",
      "File \u001b[0;32m~/Library/Python/3.9/lib/python/site-packages/sklearn/base.py:1152\u001b[0m, in \u001b[0;36m_fit_context.<locals>.decorator.<locals>.wrapper\u001b[0;34m(estimator, *args, **kwargs)\u001b[0m\n\u001b[1;32m   1145\u001b[0m     estimator\u001b[39m.\u001b[39m_validate_params()\n\u001b[1;32m   1147\u001b[0m \u001b[39mwith\u001b[39;00m config_context(\n\u001b[1;32m   1148\u001b[0m     skip_parameter_validation\u001b[39m=\u001b[39m(\n\u001b[1;32m   1149\u001b[0m         prefer_skip_nested_validation \u001b[39mor\u001b[39;00m global_skip_validation\n\u001b[1;32m   1150\u001b[0m     )\n\u001b[1;32m   1151\u001b[0m ):\n\u001b[0;32m-> 1152\u001b[0m     \u001b[39mreturn\u001b[39;00m fit_method(estimator, \u001b[39m*\u001b[39;49margs, \u001b[39m*\u001b[39;49m\u001b[39m*\u001b[39;49mkwargs)\n",
      "File \u001b[0;32m~/Library/Python/3.9/lib/python/site-packages/sklearn/preprocessing/_data.py:875\u001b[0m, in \u001b[0;36mStandardScaler.partial_fit\u001b[0;34m(self, X, y, sample_weight)\u001b[0m\n\u001b[1;32m    843\u001b[0m \u001b[39m\u001b[39m\u001b[39m\"\"\"Online computation of mean and std on X for later scaling.\u001b[39;00m\n\u001b[1;32m    844\u001b[0m \n\u001b[1;32m    845\u001b[0m \u001b[39mAll of X is processed as a single batch. This is intended for cases\u001b[39;00m\n\u001b[0;32m   (...)\u001b[0m\n\u001b[1;32m    872\u001b[0m \u001b[39m    Fitted scaler.\u001b[39;00m\n\u001b[1;32m    873\u001b[0m \u001b[39m\"\"\"\u001b[39;00m\n\u001b[1;32m    874\u001b[0m first_call \u001b[39m=\u001b[39m \u001b[39mnot\u001b[39;00m \u001b[39mhasattr\u001b[39m(\u001b[39mself\u001b[39m, \u001b[39m\"\u001b[39m\u001b[39mn_samples_seen_\u001b[39m\u001b[39m\"\u001b[39m)\n\u001b[0;32m--> 875\u001b[0m X \u001b[39m=\u001b[39m \u001b[39mself\u001b[39;49m\u001b[39m.\u001b[39;49m_validate_data(\n\u001b[1;32m    876\u001b[0m     X,\n\u001b[1;32m    877\u001b[0m     accept_sparse\u001b[39m=\u001b[39;49m(\u001b[39m\"\u001b[39;49m\u001b[39mcsr\u001b[39;49m\u001b[39m\"\u001b[39;49m, \u001b[39m\"\u001b[39;49m\u001b[39mcsc\u001b[39;49m\u001b[39m\"\u001b[39;49m),\n\u001b[1;32m    878\u001b[0m     dtype\u001b[39m=\u001b[39;49mFLOAT_DTYPES,\n\u001b[1;32m    879\u001b[0m     force_all_finite\u001b[39m=\u001b[39;49m\u001b[39m\"\u001b[39;49m\u001b[39mallow-nan\u001b[39;49m\u001b[39m\"\u001b[39;49m,\n\u001b[1;32m    880\u001b[0m     reset\u001b[39m=\u001b[39;49mfirst_call,\n\u001b[1;32m    881\u001b[0m )\n\u001b[1;32m    882\u001b[0m n_features \u001b[39m=\u001b[39m X\u001b[39m.\u001b[39mshape[\u001b[39m1\u001b[39m]\n\u001b[1;32m    884\u001b[0m \u001b[39mif\u001b[39;00m sample_weight \u001b[39mis\u001b[39;00m \u001b[39mnot\u001b[39;00m \u001b[39mNone\u001b[39;00m:\n",
      "File \u001b[0;32m~/Library/Python/3.9/lib/python/site-packages/sklearn/base.py:605\u001b[0m, in \u001b[0;36mBaseEstimator._validate_data\u001b[0;34m(self, X, y, reset, validate_separately, cast_to_ndarray, **check_params)\u001b[0m\n\u001b[1;32m    603\u001b[0m         out \u001b[39m=\u001b[39m X, y\n\u001b[1;32m    604\u001b[0m \u001b[39melif\u001b[39;00m \u001b[39mnot\u001b[39;00m no_val_X \u001b[39mand\u001b[39;00m no_val_y:\n\u001b[0;32m--> 605\u001b[0m     out \u001b[39m=\u001b[39m check_array(X, input_name\u001b[39m=\u001b[39;49m\u001b[39m\"\u001b[39;49m\u001b[39mX\u001b[39;49m\u001b[39m\"\u001b[39;49m, \u001b[39m*\u001b[39;49m\u001b[39m*\u001b[39;49mcheck_params)\n\u001b[1;32m    606\u001b[0m \u001b[39melif\u001b[39;00m no_val_X \u001b[39mand\u001b[39;00m \u001b[39mnot\u001b[39;00m no_val_y:\n\u001b[1;32m    607\u001b[0m     out \u001b[39m=\u001b[39m _check_y(y, \u001b[39m*\u001b[39m\u001b[39m*\u001b[39mcheck_params)\n",
      "File \u001b[0;32m~/Library/Python/3.9/lib/python/site-packages/sklearn/utils/validation.py:915\u001b[0m, in \u001b[0;36mcheck_array\u001b[0;34m(array, accept_sparse, accept_large_sparse, dtype, order, copy, force_all_finite, ensure_2d, allow_nd, ensure_min_samples, ensure_min_features, estimator, input_name)\u001b[0m\n\u001b[1;32m    913\u001b[0m         array \u001b[39m=\u001b[39m xp\u001b[39m.\u001b[39mastype(array, dtype, copy\u001b[39m=\u001b[39m\u001b[39mFalse\u001b[39;00m)\n\u001b[1;32m    914\u001b[0m     \u001b[39melse\u001b[39;00m:\n\u001b[0;32m--> 915\u001b[0m         array \u001b[39m=\u001b[39m _asarray_with_order(array, order\u001b[39m=\u001b[39;49morder, dtype\u001b[39m=\u001b[39;49mdtype, xp\u001b[39m=\u001b[39;49mxp)\n\u001b[1;32m    916\u001b[0m \u001b[39mexcept\u001b[39;00m ComplexWarning \u001b[39mas\u001b[39;00m complex_warning:\n\u001b[1;32m    917\u001b[0m     \u001b[39mraise\u001b[39;00m \u001b[39mValueError\u001b[39;00m(\n\u001b[1;32m    918\u001b[0m         \u001b[39m\"\u001b[39m\u001b[39mComplex data not supported\u001b[39m\u001b[39m\\n\u001b[39;00m\u001b[39m{}\u001b[39;00m\u001b[39m\\n\u001b[39;00m\u001b[39m\"\u001b[39m\u001b[39m.\u001b[39mformat(array)\n\u001b[1;32m    919\u001b[0m     ) \u001b[39mfrom\u001b[39;00m \u001b[39mcomplex_warning\u001b[39;00m\n",
      "File \u001b[0;32m~/Library/Python/3.9/lib/python/site-packages/sklearn/utils/_array_api.py:380\u001b[0m, in \u001b[0;36m_asarray_with_order\u001b[0;34m(array, dtype, order, copy, xp)\u001b[0m\n\u001b[1;32m    378\u001b[0m     array \u001b[39m=\u001b[39m numpy\u001b[39m.\u001b[39marray(array, order\u001b[39m=\u001b[39morder, dtype\u001b[39m=\u001b[39mdtype)\n\u001b[1;32m    379\u001b[0m \u001b[39melse\u001b[39;00m:\n\u001b[0;32m--> 380\u001b[0m     array \u001b[39m=\u001b[39m numpy\u001b[39m.\u001b[39;49masarray(array, order\u001b[39m=\u001b[39;49morder, dtype\u001b[39m=\u001b[39;49mdtype)\n\u001b[1;32m    382\u001b[0m \u001b[39m# At this point array is a NumPy ndarray. We convert it to an array\u001b[39;00m\n\u001b[1;32m    383\u001b[0m \u001b[39m# container that is consistent with the input's namespace.\u001b[39;00m\n\u001b[1;32m    384\u001b[0m \u001b[39mreturn\u001b[39;00m xp\u001b[39m.\u001b[39masarray(array)\n",
      "\u001b[0;31mValueError\u001b[0m: could not convert string to float: 'm96'"
     ]
    }
   ],
   "source": [
    "bdt(\"Data/Plasma/UGOTPTAU181_06_18_20_27Nov2023.csv\")"
   ]
  }
 ],
 "metadata": {
  "kernelspec": {
   "display_name": "Python 3",
   "language": "python",
   "name": "python3"
  },
  "language_info": {
   "codemirror_mode": {
    "name": "ipython",
    "version": 3
   },
   "file_extension": ".py",
   "mimetype": "text/x-python",
   "name": "python",
   "nbconvert_exporter": "python",
   "pygments_lexer": "ipython3",
   "version": "3.9.6"
  }
 },
 "nbformat": 4,
 "nbformat_minor": 2
}
