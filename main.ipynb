{
 "cells": [
  {
   "cell_type": "markdown",
   "metadata": {},
   "source": [
    "# No More Alzheimer's Disease"
   ]
  },
  {
   "cell_type": "markdown",
   "metadata": {},
   "source": [
    "## General Data Processing"
   ]
  },
  {
   "cell_type": "markdown",
   "metadata": {},
   "source": [
    "### Data Downloading"
   ]
  },
  {
   "cell_type": "code",
   "execution_count": 23,
   "metadata": {},
   "outputs": [],
   "source": [
    "# Imports\n",
    "import pandas as pd\n",
    "from sklearn.model_selection import train_test_split\n",
    "from sklearn.preprocessing import StandardScaler\n",
    "from sklearn.svm import SVC\n",
    "from sklearn.metrics import confusion_matrix, accuracy_score\n",
    "from timeit import default_timer as timer\n",
    "import numpy as np\n",
    "from tabulate import tabulate\n",
    "import matplotlib.pyplot as plt"
   ]
  },
  {
   "cell_type": "markdown",
   "metadata": {},
   "source": [
    "### Data Pre-Processing\n",
    "\n",
    "Each necessary file is downloaded, unnecessary fields are removed and labels are assigned."
   ]
  },
  {
   "cell_type": "code",
   "execution_count": 24,
   "metadata": {},
   "outputs": [
    {
     "name": "stderr",
     "output_type": "stream",
     "text": [
      "/var/folders/9h/tqk_65w50d95gtyf68q0hv880000gn/T/ipykernel_68077/1773404187.py:5: DtypeWarning: Columns (20,105) have mixed types. Specify dtype option on import or set low_memory=False.\n",
      "  labels = pd.read_csv('Data/ADNIMERGE_15Jun2023.csv')[['RID', 'VISCODE', 'DX']]\n",
      "/var/folders/9h/tqk_65w50d95gtyf68q0hv880000gn/T/ipykernel_68077/1773404187.py:26: DtypeWarning: Columns (20,105) have mixed types. Specify dtype option on import or set low_memory=False.\n",
      "  adni_merge = pd.read_csv(\"Data/ADNIMERGE_15Jun2023.csv\")\n"
     ]
    }
   ],
   "source": [
    "\n",
    "'''This function reads and does some pre-processing for the data files provided.'''\n",
    "\n",
    "ugot = pd.read_csv(\"Data/Plasma/UGOTPTAU181_06_18_20_27Nov2023.csv\")\n",
    "# Read the labels that will be used for both of the files\n",
    "labels = pd.read_csv('Data/ADNIMERGE_15Jun2023.csv')[['RID', 'VISCODE', 'DX']]\n",
    "\n",
    "\n",
    "#-------------------------UGOT------------------------------------------------------------------------\n",
    "# Now merge these two files and remove any rows that have null values\n",
    "ugot = pd.merge(ugot, labels[['RID', 'VISCODE', 'DX']], on=['RID', 'VISCODE'], how='left').dropna(subset=['RID', 'PLASMAPTAU181', 'DX'])\n",
    "# Update Stamp is not relevant for this test\n",
    "ugot.drop(['update_stamp', 'VISCODE', 'VISCODE2', 'COMMENT', 'VID', 'EXAMDATE'], axis=1, inplace=True)\n",
    "# This puts the labels in the same format used for the tests\n",
    "ugot = ugot.replace(\"Dementia\", \"AD\").replace(\"CN\", \"SCD\").reset_index(drop=True)\n",
    "ugot.to_csv(\"Data/ProcessedData/UGOT.csv\", index=False)\n",
    "\n",
    "# -------------------------UPENN----------------------------------------------------------------------\n",
    "upenn = pd.read_csv(\"Data/Plasma/UPENNPLASMA_27Nov2023.csv\")\n",
    "upenn = pd.merge(upenn, labels[['RID', 'VISCODE', 'DX']], on=['RID', 'VISCODE'], how='left').dropna()\n",
    "upenn.drop(['update_stamp', 'VISCODE'], axis=1, inplace=True)\n",
    "# This puts the labels in the same format used for the tests\n",
    "upenn = upenn.replace(\"Dementia\", \"AD\").replace(\"CN\", \"SCD\").reset_index(drop=True)\n",
    "upenn.to_csv(\"Data/ProcessedData/UPENN.csv\", index=False)\n",
    "\n",
    "# --------------------------ADNI_MERGE-----------------------------------------------------------------\n",
    "adni_merge = pd.read_csv(\"Data/ADNIMERGE_15Jun2023.csv\")\n",
    "adni_merge = adni_merge.loc[:, ~adni_merge.columns.str.endswith('_bl')]\n",
    "adni_merge = adni_merge.loc[:, ['RID', 'DX', 'MMSE', 'AGE', 'PTAU', 'TAU', 'ABETA']]\n",
    "regex_pattern = r'[<>](\\d+)'\n",
    "\n",
    "# This applies to all columns\n",
    "adni_merge = adni_merge.apply(lambda col: col.astype(str).str.replace(regex_pattern, r'\\1', regex=True))\n",
    "adni_merge = adni_merge.replace('nan', np.nan).dropna()\n",
    "\n",
    "#change to required format\n",
    "adni_merge = adni_merge.replace(\"CN\", \"SCD\").replace(\"Dementia\", \"AD\")\n",
    "adni_merge.to_csv(\"Data/ProcessedData/ADNIMerge.csv\")\n",
    "\n",
    "# --------------------------PLASMA_ABETA_PROJECT--------------------------------------------------------\n",
    "p_ab = pd.read_csv('Data/Plasma/PLASMA_ABETA_PROJECT_ADX_VUMC_27Nov2023.csv')\n",
    "# Drop the VISCODE column and replace it with VISCODE2 (REFERENCE :: https://groups.google.com/g/adni-data/c/Dx_Rgge_XB0)\n",
    "p_ab.drop('VISCODE', inplace=True, axis=1)\n",
    "p_ab.rename(columns={'VISCODE2': 'VISCODE'}, inplace=True)\n",
    "p_ab = pd.merge(p_ab, labels[['RID', 'VISCODE', 'DX']], on=['RID', 'VISCODE'], how='left').dropna()\n",
    "p_ab = p_ab.loc[:, ['RID', 'DX', 'SEQ', 'NF_LIGHT', 'ABETA42', 'ABETA40', 'GFAP']]\n",
    "p_ab = p_ab.replace(\"CN\", \"SCD\").replace('Dementia', 'AD')\n",
    "\n",
    "\n",
    "p_ab.to_csv('Data/ProcessedData/Plasma_AB.csv')\n",
    "\n",
    "\n",
    "\n"
   ]
  },
  {
   "cell_type": "code",
   "execution_count": 25,
   "metadata": {},
   "outputs": [
    {
     "name": "stderr",
     "output_type": "stream",
     "text": [
      "/var/folders/9h/tqk_65w50d95gtyf68q0hv880000gn/T/ipykernel_68077/2928537037.py:28: DtypeWarning: Columns (20,105) have mixed types. Specify dtype option on import or set low_memory=False.\n",
      "  labels = pd.read_csv('Data/ADNIMERGE_15Jun2023.csv')[['RID', 'VISCODE', 'DX']]\n"
     ]
    }
   ],
   "source": [
    "# Read each of the files and select the useful fields\n",
    "\n",
    "blen = pd.read_csv('Data/Plasma/ADNI_BLENNOWPLASMANFL_10_03_18_27Nov2023.csv')[['RID', 'VISCODE2', 'PLASMA_NFL']]\n",
    "fnih = pd.read_csv('Data/Plasma/FNIH_PLASMA_PTAU181_PROJECT_27Nov2023.csv')[['RID', 'VISCODE2', 'PTAU_181']]\n",
    "#??????\n",
    "# fuji = pd.read_csv('Data/Plasma/FUJIREBIOABETAPLASMA_06Dec2023.csv')[['RID', 'VISCODE2', 'PTAU_181']]\n",
    "#??????\n",
    "plasmaab = pd.read_csv('Data/Plasma/PLASMA_ABETA_PROJECT_ADX_VUMC_27Nov2023.csv')[['RID', 'VISCODE2', 'NF_LIGHT', 'ABETA42', 'ABETA40', 'GFAP']]\n",
    "ugot = pd.read_csv('Data/Plasma/UGOTPTAU181_06_18_20_27Nov2023.csv')[['RID', 'VISCODE2', 'PLASMAPTAU181']] # RENAME PTAU\n",
    "dian = pd.read_csv('Data/Plasma/UPENNPLASMA_27Nov2023.csv')[['RID', 'VISCODE', 'AB40', 'AB42']]\n",
    "\n",
    "# Rename all of the VISCODE2 => VISCODE for merging\n",
    "blen.rename(columns={'VISCODE2': 'VISCODE'}, inplace=True)\n",
    "fnih.rename(columns={'VISCODE2': 'VISCODE'}, inplace=True)\n",
    "plasmaab.rename(columns={'VISCODE2': 'VISCODE'}, inplace=True)\n",
    "ugot.rename(columns={'VISCODE2': 'VISCODE'}, inplace=True)\n",
    "\n",
    "# Rename PLASMAPTAU181 => PTAU_181 for merging\n",
    "ugot.rename(columns={'PLASMAPTAU181' : 'PTAU_181'}, inplace=True)\n",
    "\n",
    "# Attempt to merge\n",
    "df = pd.merge(blen, fnih, on=['RID', 'VISCODE'], how='outer')\n",
    "df = pd.merge(df, plasmaab, on=['RID', 'VISCODE'], how='outer')\n",
    "df = pd.merge(df, ugot, on=['RID', 'VISCODE'], how='outer')\n",
    "df = pd.merge(df, dian, on=['RID', 'VISCODE'], how='outer')\n",
    "\n",
    "# Now assign a label to each item\n",
    "labels = pd.read_csv('Data/ADNIMERGE_15Jun2023.csv')[['RID', 'VISCODE', 'DX']]\n",
    "df = pd.merge(df, labels[['RID', 'VISCODE', 'DX']], on=['RID', 'VISCODE'], how='left').replace('CN', 'SCD').replace('Dementia', 'AD')\n",
    "\n",
    "# Remove any items that couldn't be classified\n",
    "df = df.dropna(subset=['DX'])\n",
    "df.drop(\"VISCODE\", inplace=True, axis=1)\n",
    "\n",
    "df.to_csv('Data/ProcessedData/ALL_PLASMA_MERGED.csv')\n",
    "\n",
    "# Now select the plasma biomarkers required and remove any ones with null fields\n",
    "\n",
    "df = df[['PTAU_181_x', 'NF_LIGHT', 'ABETA42', 'ABETA40', 'GFAP', 'DX']].dropna()\n",
    "df.to_csv('Data/ProcessedData/PLASMA_MERGED.csv', index=False)"
   ]
  },
  {
   "cell_type": "markdown",
   "metadata": {},
   "source": [
    "### General Functions"
   ]
  },
  {
   "cell_type": "code",
   "execution_count": 26,
   "metadata": {},
   "outputs": [],
   "source": [
    "def getXy(df):\n",
    "    '''\n",
    "    Seperate the label from the feature data.\n",
    "    \n",
    "    Args : \n",
    "        df (DataFrame) : The data to be seperated\n",
    "    Returns :\n",
    "        X (DataFrame) : The feature data.\n",
    "        y (list) : The labels associated.'''\n",
    "    \n",
    "    # Independant\n",
    "    X = df.drop(\"DX\", axis=1).values\n",
    "    # Dependant\n",
    "    y = df[\"DX\"].values\n",
    "\n",
    "    return X, y"
   ]
  },
  {
   "cell_type": "code",
   "execution_count": 27,
   "metadata": {},
   "outputs": [],
   "source": [
    "def get_different_classes(df):\n",
    "    '''\n",
    "        This function returns the three different classes, seperated into different dataframes.\n",
    "        \n",
    "        Args :\n",
    "            df (DataFrame) : The dataframe containing all the label and feature data.\n",
    "        Returns :\n",
    "            SCD, MCI, AD : Each of the different labels (with the feature data) seperated into dataframes'''\n",
    "    \n",
    "    SCD = df.loc[df[\"DX\"] == \"SCD\"]\n",
    "    MCI = df.loc[df[\"DX\"] == \"MCI\"]\n",
    "    AD = df.loc[df[\"DX\"] == \"AD\"]\n",
    "\n",
    "    return SCD, MCI, AD"
   ]
  },
  {
   "cell_type": "code",
   "execution_count": 28,
   "metadata": {},
   "outputs": [],
   "source": [
    "def split_test_data(SCD, MCI, AD, TestingFactor = 0.25):\n",
    "    '''\n",
    "        Now we seperate the training and testing data. Currently using a 25% training test split.\n",
    "\n",
    "        Args : \n",
    "            SCD, MCI, AD (DataFrame) : Data to be split, already split into classes.\n",
    "            TestingFactor (int) [OPTIONAL] : Amount of data put in testing.\n",
    "        Returns :\n",
    "            SCD, MCI, AD, TestData (DataFrame) : Each of the sections of data.\n",
    "    \n",
    "    '''\n",
    "\n",
    "    SCD, TempSCD = train_test_split(SCD, test_size=TestingFactor)\n",
    "    MCI, TempMCI = train_test_split(MCI, test_size=TestingFactor)\n",
    "    AD, TempAD = train_test_split(AD, test_size=TestingFactor)\n",
    "\n",
    "    # concatenate the lists\n",
    "    TempData = [TempSCD, TempMCI, TempAD]\n",
    "    TestData = pd.concat(TempData)\n",
    "\n",
    "    # return required info\n",
    "    return SCD, MCI, AD, TestData"
   ]
  },
  {
   "cell_type": "code",
   "execution_count": 29,
   "metadata": {},
   "outputs": [],
   "source": [
    "def display_results_table(name, bdt_data, ovo_data):\n",
    "    '''\n",
    "        This outputs the table in a visually appealing way.\n",
    "        \n",
    "        Arguments :\n",
    "            bdt_data : The data formatted in the order Names, Time, Accuracy.\n",
    "            ovo_data : The data formatted in the order Names, Time, Accuracy.\n",
    "    '''\n",
    "\n",
    "    # SOURCE : https://medium.com/@HeCanThink/tabulate-your-go-to-solution-for-stylish-tables-in-python-35ede5145e28#:~:text=Tabulate%3A%20Your%20Go%2DTo%20Solution%20for%20Stylish%20Tables%20in%20Python%20%F0%9F%91%89,-Manoj%20Das&text=With%20the%20Tabulate%20library%2C%20you,customized%20to%20suit%20your%20preferences.\n",
    "\n",
    "    bdt_df = pd.DataFrame(bdt_data)\n",
    "    ovo_df = pd.DataFrame(ovo_data)\n",
    "\n",
    "    # Display DataFrames\n",
    "    print(\"Binary Decision Tree \" + name)\n",
    "    print(tabulate(bdt_df, headers=\"keys\", tablefmt=\"pretty\", showindex=False))\n",
    "\n",
    "    print(\"\\nOne v One \" + name)\n",
    "    print(tabulate(ovo_df, headers=\"keys\", tablefmt=\"pretty\", showindex=False))\n",
    "    \n"
   ]
  },
  {
   "cell_type": "code",
   "execution_count": 30,
   "metadata": {},
   "outputs": [],
   "source": [
    "def display_results_graph(approach, bdt, ovo, sizes):\n",
    "    '''\n",
    "        This outputs the graph representation of the data provided. Currently it compares the results and the data set sizes\n",
    "\n",
    "        Arguments :\n",
    "            approach (str) : says whether this is for an SVM or a RF.\n",
    "            bdt : The data formatted in the order Names, Time, Accuracy.\n",
    "            ovo : The data formatted in the order Names, Time, Accuracy.\n",
    "            sums : The sizes of all the different data sets.\n",
    "    '''\n",
    "\n",
    "    fig, axes = plt.subplots(nrows=1, ncols=2, figsize=(10, 4))\n",
    "\n",
    "    bdt = pd.DataFrame(bdt)\n",
    "    ovo = pd.DataFrame(ovo)\n",
    "\n",
    "    fig.suptitle(approach, y=1.03)\n",
    "\n",
    "    # Plot time taken as x, accuracy as y\n",
    "    axes[0].set_xlabel(\"Time Taken to Train and Test (s)\")\n",
    "    axes[0].set_ylabel(\"Accuracy (%)\")\n",
    "    axes[0].scatter(bdt.loc[bdt['Dataset'] == 'UPENN', 'Time Taken'].values[0], bdt.loc[bdt['Dataset'] == 'UPENN', 'Accuracy'].values[0], label='UPENN', color='blue')\n",
    "    axes[0].scatter(bdt.loc[bdt['Dataset'] == 'UGOT', 'Time Taken'].values[0], bdt.loc[bdt['Dataset'] == 'UGOT', 'Accuracy'].values[0], label='UGOT', color='green')\n",
    "    axes[0].scatter(bdt.loc[bdt['Dataset'] == 'ADNI', 'Time Taken'].values[0], bdt.loc[bdt['Dataset'] == 'ADNI', 'Accuracy'].values[0], label='ADNI', color='red')\n",
    "    axes[0].scatter(bdt.loc[bdt['Dataset'] == 'ABETA', 'Time Taken'].values[0], bdt.loc[bdt['Dataset'] == 'ABETA', 'Accuracy'].values[0], label='ABETA', color='purple')\n",
    "    axes[0].scatter(bdt.loc[bdt['Dataset'] == 'PLASMA', 'Time Taken'].values[0], bdt.loc[bdt['Dataset'] == 'PLASMA', 'Accuracy'].values[0], label='PLASMA', color='grey')\n",
    "\n",
    "    axes[0].scatter(ovo.loc[ovo['Dataset'] == 'UPENN', 'Time Taken'].values[0], ovo.loc[ovo['Dataset'] == 'UPENN', 'Accuracy'].values[0], color='blue', marker='x')\n",
    "    axes[0].scatter(ovo.loc[ovo['Dataset'] == 'UGOT', 'Time Taken'].values[0], ovo.loc[ovo['Dataset'] == 'UGOT', 'Accuracy'].values[0], color='green', marker='x')\n",
    "    axes[0].scatter(ovo.loc[ovo['Dataset'] == 'ADNI', 'Time Taken'].values[0], ovo.loc[ovo['Dataset'] == 'ADNI', 'Accuracy'].values[0], color='red', marker='x')\n",
    "    axes[0].scatter(ovo.loc[ovo['Dataset'] == 'ABETA', 'Time Taken'].values[0], ovo.loc[ovo['Dataset'] == 'ABETA', 'Accuracy'].values[0], color='purple', marker='x')\n",
    "    axes[0].scatter(ovo.loc[ovo['Dataset'] == 'PLASMA', 'Time Taken'].values[0], ovo.loc[ovo['Dataset'] == 'PLASMA', 'Accuracy'].values[0], color='grey', marker='x')\n",
    "\n",
    "    axes[0].set_title(\"Comparison of OvO (x) and BDT (o) approaches\")\n",
    "    axes[0].legend()\n",
    "\n",
    "    # Now plot the data set sizes\n",
    "    categoroies = ['UPENN', 'UGOT', 'ADNI', 'ABETA', 'Plasma File']\n",
    "\n",
    "    axes[1].bar(categoroies, sizes)\n",
    "    axes[1].set_xlabel('Categories')\n",
    "    axes[1].set_ylabel('Test Data Set Sizes')\n",
    "    axes[1].set_title('Test Data Set Sizes Comparison')\n",
    "\n",
    "    plt.show()"
   ]
  },
  {
   "cell_type": "markdown",
   "metadata": {},
   "source": [
    "### SVM Approach"
   ]
  },
  {
   "cell_type": "code",
   "execution_count": 31,
   "metadata": {},
   "outputs": [],
   "source": [
    "def construct_svm(df1, df2):\n",
    "    '''\n",
    "        Constructs an SVM with the datasets provided.\n",
    "\n",
    "        Args :\n",
    "            Datasets (DataFrame) : Two DataFrames that the SVM must be made upon.\n",
    "        Returns :\n",
    "            Classifier (SVC) : This is the margin that the data must be acted upon.\n",
    "            Scaler (StandardScaler) : Used in testing.\n",
    "    '''\n",
    "\n",
    "    # First the two dataframes should be combined\n",
    "    df = [df1, df2]\n",
    "    df = pd.concat(df)\n",
    "    # Get data in the format required\n",
    "    X, y = getXy(df)\n",
    "    # Train the classifier\n",
    "    sc = StandardScaler()\n",
    "    X = sc.fit_transform(X)\n",
    "    # Fit to the classifier\n",
    "    classifier = SVC(kernel='rbf', random_state=0)\n",
    "    classifier.fit(X, y)\n",
    "\n",
    "    return classifier, sc"
   ]
  },
  {
   "cell_type": "code",
   "execution_count": 32,
   "metadata": {},
   "outputs": [],
   "source": [
    "def test_svm(classifier, scaler, X):\n",
    "    '''\n",
    "        Test the dataset with each individual SVM\n",
    "\n",
    "        Args :\n",
    "            classifier (SVM) : The Support Vector Machine used for this test\n",
    "            scaler (StandardScaler) : This allows the test data to be scaled to the same proportions as the test data\n",
    "            X (DataFrame) : The feature data WITHOUT labels\n",
    "        Returns :\n",
    "            y_pred (list) : the predicted y-value for each item\n",
    "    '''\n",
    "    # now perform the classification\n",
    "    X = scaler.fit_transform(X)\n",
    "    y_pred = classifier.predict(X)\n",
    "    # return the result of this transaction\n",
    "    return y_pred"
   ]
  },
  {
   "cell_type": "markdown",
   "metadata": {},
   "source": [
    "### Binary Decision Tree SVM Classifier"
   ]
  },
  {
   "cell_type": "code",
   "execution_count": 33,
   "metadata": {},
   "outputs": [],
   "source": [
    "def bdt_svm(file_path):\n",
    "    '''\n",
    "        Perform the Binary Decision Tree SVM classification method.\n",
    "        \n",
    "        Args :\n",
    "            file_path (String) : Path to the data\n",
    "        Returns :\n",
    "            time (float) : Time taken to perform the test.\n",
    "            accuracy (float) : The accuracy of the model.\n",
    "            confusion_matrix : Confusion matrix for the accuracy.'''\n",
    "    \n",
    "    df = pd.read_csv(file_path)\n",
    "    \n",
    "    start = timer()\n",
    "    # Now seperate the labels\n",
    "    SCD, MCI, AD = get_different_classes(df)\n",
    "    # get the test data required, leave training data\n",
    "    SCD, MCI, AD, TestData = split_test_data(SCD, MCI, AD)\n",
    "    \n",
    "\n",
    "    # seperate the labels and the data features\n",
    "    X_test, y_test = getXy(TestData)\n",
    "\n",
    "    # Concatenate MCI\n",
    "    MCIoAD = [MCI, AD]\n",
    "    MCIoAD = pd.concat(MCIoAD)\n",
    "    # Map to the same class\n",
    "    MCIoAD = MCIoAD.replace(\"MCI\", \"MCIoAD\").replace(\"AD\", \"MCIoAD\")\n",
    "\n",
    "    # Test to perform the first step of the DT\n",
    "    SCDMCIAD, scalersma = construct_svm(SCD, MCIoAD)\n",
    "    # SVM for the second level of the BDT\n",
    "    MCIAD, scalarma = construct_svm(MCI, AD)\n",
    "\n",
    "    # Perform the test for the first level of BDT\n",
    "    SCDoMCIAD = test_svm(SCDMCIAD, scalersma, X_test)\n",
    "\n",
    "    # Now run entire set through the MCI, AD classifier. \n",
    "    # However, only the non-SCD items in the previous test will be used\n",
    "    MCIoAD = test_svm(MCIAD, scalarma, X_test)\n",
    "\n",
    "    # Now colalate the results together taking the two classifiers into account\n",
    "    results = []\n",
    "    \n",
    "    for i in range(len(SCDoMCIAD)):\n",
    "        if SCDoMCIAD[i] == 'SCD':\n",
    "            results.append('SCD')\n",
    "        else:\n",
    "            # Adds the result of the second level\n",
    "            results.append(MCIoAD[i])\n",
    "\n",
    "    # Print out the time taken and results\n",
    "    end = timer()\n",
    "\n",
    "    # construct a confusion matrix\n",
    "    cm = confusion_matrix(y_test, results)\n",
    "\n",
    "    return end-start, accuracy_score(y_test, results), cm"
   ]
  },
  {
   "cell_type": "markdown",
   "metadata": {},
   "source": [
    "### OnevOne SVM Classifier"
   ]
  },
  {
   "cell_type": "code",
   "execution_count": 34,
   "metadata": {},
   "outputs": [],
   "source": [
    "def ovo_svm(file_path):\n",
    "    '''\n",
    "        Perform the One v One SVM classification method.\n",
    "        \n",
    "        Args :\n",
    "            file_path (String) : Path to the data\n",
    "        Returns :\n",
    "            time (float) : Time taken to perform the test.\n",
    "            accuracy (float) : The accuracy of the model.\n",
    "            confusion_matrix : Confusion matrix for the accuracy.'''\n",
    "    \n",
    "\n",
    "    df = pd.read_csv(file_path)\n",
    "\n",
    "    # Keep track of the time taken after file read\n",
    "    start = timer()\n",
    "    # Now seperate the labels\n",
    "    SCD, MCI, AD = get_different_classes(df)\n",
    "    # get the test data required, leave training data\n",
    "    SCD, MCI, AD, TestData = split_test_data(SCD, MCI, AD)\n",
    "\n",
    "    # seperate the labels and the data features\n",
    "    X_test, y_test = getXy(TestData)\n",
    "\n",
    "    # Construct the three different SVMs\n",
    "    SCDMCI, scalersm = construct_svm(SCD, MCI)\n",
    "    MCIAD, scalerma = construct_svm(MCI, AD)\n",
    "    SCDAD, scalersa = construct_svm(SCD, AD)\n",
    "\n",
    "    # Perform the individual tests\n",
    "    pred1 = test_svm(SCDMCI, scalersm, X_test)\n",
    "    pred2 = test_svm(MCIAD, scalerma, X_test)\n",
    "    pred3 = test_svm(SCDAD, scalersa, X_test)\n",
    "\n",
    "    # This now gets the most common item to appear in the lists\n",
    "\n",
    "    common = [\"-1\" for i in range(len(pred1))]\n",
    "    notClassified = 0\n",
    "\n",
    "    # classify values that have atleast a 2 in a majority voting scheme\n",
    "    for i in range(len(pred1)):\n",
    "        if (pred1[i] == pred2[i]) or (pred1[i] == pred3[i]):\n",
    "            common[i] = pred1[i]\n",
    "        elif (pred2[i] == pred3[i]):\n",
    "            common[i] = pred2[i]\n",
    "\n",
    "    cm = confusion_matrix(y_test, common)\n",
    "\n",
    "    end = timer()\n",
    "\n",
    "    return end-start, accuracy_score(y_test, common), cm \n",
    "\n",
    "    "
   ]
  },
  {
   "cell_type": "markdown",
   "metadata": {},
   "source": [
    "### Results"
   ]
  },
  {
   "cell_type": "code",
   "execution_count": 35,
   "metadata": {},
   "outputs": [
    {
     "name": "stdout",
     "output_type": "stream",
     "text": [
      "Binary Decision Tree SVM\n",
      "+---------+----------------------+--------------------+\n",
      "| Dataset |      Time Taken      |      Accuracy      |\n",
      "+---------+----------------------+--------------------+\n",
      "|  UGOT   | 0.17356441599986283  | 0.5240641711229946 |\n",
      "|  UPENN  | 0.11257799999998497  | 0.3946932006633499 |\n",
      "|  ADNI   | 0.059749665999788704 | 0.6841216216216216 |\n",
      "|  ABETA  | 0.003604874999837193 | 0.4642857142857143 |\n",
      "| PLASMA  | 0.005949999999984357 |       0.625        |\n",
      "+---------+----------------------+--------------------+\n",
      "\n",
      "One v One SVM\n",
      "+---------+-----------------------+--------------------+\n",
      "| Dataset |      Time Taken       |      Accuracy      |\n",
      "+---------+-----------------------+--------------------+\n",
      "|  UGOT   |  0.19191562499986503  | 0.5368983957219251 |\n",
      "|  UPENN  |  0.10975641599998198  | 0.4311774461028192 |\n",
      "|  ADNI   |  0.06171833400003379  | 0.6824324324324325 |\n",
      "|  ABETA  | 0.004331749999892054  | 0.5714285714285714 |\n",
      "| PLASMA  | 0.0069232089999786695 | 0.6785714285714286 |\n",
      "+---------+-----------------------+--------------------+\n"
     ]
    }
   ],
   "source": [
    "# Naming Convention : TreeType_Study_Measure\n",
    "\n",
    "# Tree Type\n",
    "    # bdt :: Binary Decision Tree\n",
    "    # ovo :: One v One\n",
    "# Study\n",
    "    # up :: UPENN\n",
    "    # ug :: UGOT\n",
    "    # am :: ADNI_MERGE\n",
    "    # pab :: Plasma_AB\n",
    "# Measure\n",
    "    # time :: Time taken to complete\n",
    "    # acc :: Classification Accuracy\n",
    "    # cm :: Confusion Matrix\n",
    "\n",
    "bdt_up_time, bdt_up_acc, bdt_up_cm = bdt_svm('Data/ProcessedData/UPENN.csv')\n",
    "bdt_ug_time, bdt_ug_acc, bdt_ug_cm = bdt_svm('Data/ProcessedData/UGOT.csv')\n",
    "bdt_am_time, bdt_am_acc, bdt_am_cm = bdt_svm('Data/ProcessedData/ADNIMerge.csv')\n",
    "bdt_pab_time, bdt_pab_acc, bdt_pab_cm = bdt_svm('Data/ProcessedData/Plasma_AB.csv')\n",
    "bdt_plasma_time, bdt_plasma_acc, bdt_plasma_cm = bdt_svm('Data/ProcessedData/PLASMA_MERGED.csv')\n",
    "\n",
    "ovo_up_time, ovo_up_acc, ovo_up_cm = ovo_svm('Data/ProcessedData/UPENN.csv')\n",
    "ovo_ug_time, ovo_ug_acc, ovo_ug_cm = ovo_svm('Data/ProcessedData/UGOT.csv')\n",
    "ovo_am_time, ovo_am_acc, ovo_am_cm = ovo_svm('Data/ProcessedData/ADNIMerge.csv')\n",
    "ovo_pab_time, ovo_pab_acc, ovo_pab_cm = ovo_svm('Data/ProcessedData/Plasma_AB.csv')\n",
    "ovo_plasma_time, ovo_plasma_acc, ovo_plasma_cm = ovo_svm('Data/ProcessedData/PLASMA_MERGED.csv')\n",
    "\n",
    "#Display the results\n",
    "\n",
    "bdt_data = {\n",
    "    \"Dataset\": [\"UGOT\", \"UPENN\", \"ADNI\", \"ABETA\", \"PLASMA\"],\n",
    "    \"Time Taken\": [bdt_ug_time, bdt_up_time, bdt_am_time, bdt_pab_time, bdt_plasma_time],\n",
    "    \"Accuracy\": [bdt_ug_acc, bdt_up_acc, bdt_am_acc, bdt_pab_acc, bdt_plasma_acc]\n",
    "}\n",
    "\n",
    "# Data for One v One SVM\n",
    "ovo_data = {\n",
    "    \"Dataset\": [\"UGOT\", \"UPENN\", \"ADNI\", \"ABETA\", \"PLASMA\"],\n",
    "    \"Time Taken\": [ovo_ug_time, ovo_up_time, ovo_am_time, ovo_pab_time, ovo_plasma_time],\n",
    "    \"Accuracy\": [ovo_ug_acc, ovo_up_acc, ovo_am_acc, ovo_pab_acc, ovo_plasma_acc]\n",
    "}\n",
    "\n",
    "display_results_table(\"SVM\", bdt_data, ovo_data)\n"
   ]
  },
  {
   "cell_type": "markdown",
   "metadata": {},
   "source": [
    "### Results Visualisation"
   ]
  },
  {
   "cell_type": "code",
   "execution_count": 36,
   "metadata": {},
   "outputs": [
    {
     "data": {
      "image/png": "[encoded data removed]",
      "text/plain": [
       "<Figure size 1000x400 with 2 Axes>"
      ]
     },
     "metadata": {},
     "output_type": "display_data"
    }
   ],
   "source": [
    "# Now plot the data set sizes\n",
    "sizes = [bdt_up_cm.sum(), bdt_ug_cm.sum(), bdt_am_cm.sum(), bdt_pab_cm.sum(), bdt_plasma_cm.sum()]\n",
    "\n",
    "display_results_graph(\"Comparison of SVM Approaches\", bdt_data, ovo_data, sizes)"
   ]
  },
  {
   "cell_type": "markdown",
   "metadata": {},
   "source": [
    "# Random Forest Approach"
   ]
  },
  {
   "cell_type": "code",
   "execution_count": 37,
   "metadata": {},
   "outputs": [],
   "source": [
    "from sklearn.ensemble import RandomForestClassifier"
   ]
  },
  {
   "cell_type": "code",
   "execution_count": 38,
   "metadata": {},
   "outputs": [],
   "source": [
    "def construct_rf(df1, df2):\n",
    "    '''\n",
    "        Constructs a RF with the datasets provided.\n",
    "\n",
    "        Args :\n",
    "            Datasets (DataFrame) : Two DataFrames that the RF must be made upon.\n",
    "        Returns :\n",
    "            Classifier (StandardScaler) : Used in testing.\n",
    "    '''\n",
    "\n",
    "    # Source :: https://www.datacamp.com/tutorial/random-forests-classifier-python\n",
    "\n",
    "    # First the two dataframes should be combined\n",
    "    df = [df1, df2]\n",
    "    df = pd.concat(df)\n",
    "    # Get data in the format required\n",
    "    X, y = getXy(df)\n",
    "    # Fit to the classifier\n",
    "    classifier = RandomForestClassifier()\n",
    "    classifier.fit(X, y)\n",
    "\n",
    "    return classifier"
   ]
  },
  {
   "cell_type": "code",
   "execution_count": 39,
   "metadata": {},
   "outputs": [],
   "source": [
    "def test_rf(classifier, X):\n",
    "    '''\n",
    "        Test the dataset with each individual SVM\n",
    "\n",
    "        Args :\n",
    "            classifier (RF) : The Support Vector Machine used for this test\n",
    "            X (DataFrame) : The feature data WITHOUT labels\n",
    "        Returns :\n",
    "            y_pred (list) : the predicted y-value for each item\n",
    "    '''\n",
    "    # now perform the classification\n",
    "    y_pred = classifier.predict(X)\n",
    "    # return the result of this transaction\n",
    "    return y_pred"
   ]
  },
  {
   "cell_type": "markdown",
   "metadata": {},
   "source": [
    "### Binary Decision Tree Random Forest"
   ]
  },
  {
   "cell_type": "code",
   "execution_count": 40,
   "metadata": {},
   "outputs": [],
   "source": [
    "def ovo_rf(file_path):\n",
    "    '''\n",
    "        Perform the One v One RF classification method.\n",
    "        \n",
    "        Args :\n",
    "            file_path (String) : Path to the data\n",
    "        Returns :\n",
    "            time (float) : Time taken to perform the test.\n",
    "            accuracy (float) : The accuracy of the model.\n",
    "            confusion_matrix : Confusion matrix for the accuracy.'''\n",
    "    \n",
    "\n",
    "    df = pd.read_csv(file_path)\n",
    "\n",
    "    # Keep track of the time taken after file read\n",
    "    start = timer()\n",
    "    # Now seperate the labels\n",
    "    SCD, MCI, AD = get_different_classes(df)\n",
    "    # get the test data required, leave training data\n",
    "    SCD, MCI, AD, TestData = split_test_data(SCD, MCI, AD)\n",
    "\n",
    "    # seperate the labels and the data features\n",
    "    X_test, y_test = getXy(TestData)\n",
    "\n",
    "    # Construct the three different RFs\n",
    "    SCDMCI = construct_rf(SCD, MCI)\n",
    "    MCIAD = construct_rf(MCI, AD)\n",
    "    SCDAD = construct_rf(SCD, AD)\n",
    "\n",
    "    # Perform the individual tests\n",
    "    pred1 = test_rf(SCDMCI, X_test)\n",
    "    pred2 = test_rf(MCIAD, X_test)\n",
    "    pred3 = test_rf(SCDAD, X_test)\n",
    "\n",
    "    # This now gets the most common item to appear in the lists\n",
    "\n",
    "    common = [\"-1\" for i in range(len(pred1))]\n",
    "    notClassified = 0\n",
    "\n",
    "    # classify values that have atleast a 2 in a majority voting scheme\n",
    "    for i in range(len(pred1)):\n",
    "        if (pred1[i] == pred2[i]) or (pred1[i] == pred3[i]):\n",
    "            common[i] = pred1[i]\n",
    "        elif (pred2[i] == pred3[i]):\n",
    "            common[i] = pred2[i]\n",
    "\n",
    "    cm = confusion_matrix(y_test, common)\n",
    "\n",
    "    end = timer()\n",
    "\n",
    "    return end-start, accuracy_score(y_test, common), cm \n",
    "\n",
    "    "
   ]
  },
  {
   "cell_type": "code",
   "execution_count": 41,
   "metadata": {},
   "outputs": [],
   "source": [
    "def bdt_rf(file_path):\n",
    "    '''\n",
    "        Perform the Binary Decision Tree RF classification method.\n",
    "        \n",
    "        Args :\n",
    "            file_path (String) : Path to the data\n",
    "        Returns :\n",
    "            time (float) : Time taken to perform the test.\n",
    "            accuracy (float) : The accuracy of the model.\n",
    "            confusion_matrix : Confusion matrix for the accuracy.'''\n",
    "    \n",
    "    df = pd.read_csv(file_path)\n",
    "    \n",
    "    start = timer()\n",
    "    # Now seperate the labels\n",
    "    SCD, MCI, AD = get_different_classes(df)\n",
    "    # get the test data required, leave training data\n",
    "    SCD, MCI, AD, TestData = split_test_data(SCD, MCI, AD)\n",
    "    \n",
    "\n",
    "    # seperate the labels and the data features\n",
    "    X_test, y_test = getXy(TestData)\n",
    "\n",
    "    # Concatenate MCI\n",
    "    MCIoAD = [MCI, AD]\n",
    "    MCIoAD = pd.concat(MCIoAD)\n",
    "    # Map to the same class\n",
    "    MCIoAD = MCIoAD.replace(\"MCI\", \"MCIoAD\").replace(\"AD\", \"MCIoAD\")\n",
    "\n",
    "    # Test to perform the first step of the DT\n",
    "    SCDMCIAD = construct_rf(SCD, MCIoAD)\n",
    "    # SVM for the second level of the BDT\n",
    "    MCIAD = construct_rf(MCI, AD)\n",
    "\n",
    "    # Perform the test for the first level of BDT\n",
    "    SCDoMCIAD = test_rf(SCDMCIAD, X_test)\n",
    "\n",
    "    # Now run entire set through the MCI, AD classifier. \n",
    "    # However, only the non-SCD items in the previous test will be used\n",
    "    MCIoAD = test_rf(MCIAD, X_test)\n",
    "\n",
    "    # Now colalate the results together taking the two classifiers into account\n",
    "    results = []\n",
    "    \n",
    "    for i in range(len(SCDoMCIAD)):\n",
    "        if SCDoMCIAD[i] == 'SCD':\n",
    "            results.append('SCD')\n",
    "        else:\n",
    "            # Adds the result of the second level\n",
    "            results.append(MCIoAD[i])\n",
    "\n",
    "    # Print out the time taken and results\n",
    "    end = timer()\n",
    "\n",
    "    # construct a confusion matrix\n",
    "    cm = confusion_matrix(y_test, results)\n",
    "\n",
    "    return end-start, accuracy_score(y_test, results), cm\n"
   ]
  },
  {
   "cell_type": "markdown",
   "metadata": {},
   "source": [
    "### Results\n",
    "\n",
    "This is done for One v One RF and Binary Decision Tree RFs."
   ]
  },
  {
   "cell_type": "code",
   "execution_count": 45,
   "metadata": {},
   "outputs": [
    {
     "name": "stdout",
     "output_type": "stream",
     "text": [
      "Binary Decision Tree RF\n",
      "+---------+---------------------+---------------------+\n",
      "| Dataset |     Time Taken      |      Accuracy       |\n",
      "+---------+---------------------+---------------------+\n",
      "|  UGOT   | 0.35413724999989427 | 0.6406417112299465  |\n",
      "|  UPENN  | 0.28214287500031787 | 0.48092868988391374 |\n",
      "|  ADNI   | 0.2871964159999152  |  0.768581081081081  |\n",
      "|  ABETA  | 0.09117700000024342 |         0.5         |\n",
      "| PLASMA  | 0.10744904200009842 | 0.9464285714285714  |\n",
      "+---------+---------------------+---------------------+\n",
      "\n",
      "One v One RF\n",
      "+---------+---------------------+--------------------+\n",
      "| Dataset |     Time Taken      |      Accuracy      |\n",
      "+---------+---------------------+--------------------+\n",
      "|  UGOT   | 0.43277883400014616 | 0.6160427807486631 |\n",
      "|  UPENN  | 0.33685254200008785 | 0.5008291873963516 |\n",
      "|  ADNI   | 0.3497109999998429  | 0.768581081081081  |\n",
      "|  ABETA  | 0.1336050840000098  |        0.5         |\n",
      "| PLASMA  | 0.1536355830003231  |        1.0         |\n",
      "+---------+---------------------+--------------------+\n",
      "[[18  0  0]\n",
      " [ 0 50  0]\n",
      " [ 0  0 44]]\n"
     ]
    }
   ],
   "source": [
    "from tabulate import tabulate\n",
    "# Perform the tests using the naming convention described in the SVM section.\n",
    "\n",
    "bdt_up_time, bdt_up_acc, bdt_up_cm = bdt_rf('Data/ProcessedData/UPENN.csv')\n",
    "bdt_ug_time, bdt_ug_acc, bdt_ug_cm = bdt_rf('Data/ProcessedData/UGOT.csv')\n",
    "bdt_am_time, bdt_am_acc, bdt_am_cm = bdt_rf('Data/ProcessedData/ADNIMerge.csv')\n",
    "bdt_pab_time, bdt_pab_acc, bdt_pab_cm = bdt_rf('Data/ProcessedData/Plasma_AB.csv')\n",
    "bdt_plasma_time, bdt_plasma_acc, bdt_plasma_cm = bdt_rf('Data/ProcessedData/PLASMA_MERGED.csv')\n",
    "\n",
    "ovo_up_time, ovo_up_acc, ovo_up_cm = ovo_rf('Data/ProcessedData/UPENN.csv')\n",
    "ovo_ug_time, ovo_ug_acc, ovo_ug_cm = ovo_rf('Data/ProcessedData/UGOT.csv')\n",
    "ovo_am_time, ovo_am_acc, ovo_am_cm = ovo_rf('Data/ProcessedData/ADNIMerge.csv')\n",
    "ovo_pab_time, ovo_pab_acc, ovo_pab_cm = ovo_rf('Data/ProcessedData/Plasma_AB.csv')\n",
    "ovo_plasma_time, ovo_plasma_acc, ovo_plasma_cm = ovo_rf('Data/ProcessedData/PLASMA_MERGED.csv')\n",
    "\n",
    "# Print out the results\n",
    "\n",
    "# SOURCE (For Table Display) : https://medium.com/@HeCanThink/tabulate-your-go-to-solution-for-stylish-tables-in-python-35ede5145e28#:~:text=Tabulate%3A%20Your%20Go%2DTo%20Solution%20for%20Stylish%20Tables%20in%20Python%20%F0%9F%91%89,-Manoj%20Das&text=With%20the%20Tabulate%20library%2C%20you,customized%20to%20suit%20your%20preferences.\n",
    "\n",
    "bdt_data = {\n",
    "    \"Dataset\": [\"UGOT\", \"UPENN\", \"ADNI\", \"ABETA\", \"PLASMA\"],\n",
    "    \"Time Taken\": [bdt_ug_time, bdt_up_time, bdt_am_time, bdt_pab_time, bdt_plasma_time],\n",
    "    \"Accuracy\": [bdt_ug_acc, bdt_up_acc, bdt_am_acc, bdt_pab_acc, bdt_plasma_acc]\n",
    "}\n",
    "\n",
    "# Data for One v One SVM\n",
    "ovo_data = {\n",
    "    \"Dataset\": [\"UGOT\", \"UPENN\", \"ADNI\", \"ABETA\", \"PLASMA\"],\n",
    "    \"Time Taken\": [ovo_ug_time, ovo_up_time, ovo_am_time, ovo_pab_time, ovo_plasma_time],\n",
    "    \"Accuracy\": [ovo_ug_acc, ovo_up_acc, ovo_am_acc, ovo_pab_acc, ovo_plasma_acc]\n",
    "}\n",
    "\n",
    "display_results_table(\"RF\", bdt_data, ovo_data)\n",
    "\n",
    "print(ovo_plasma_cm)\n",
    "\n",
    "\n",
    "# TODO :: Tune hyper-parameters of RF\n",
    "# TODO :: Make More Results\n",
    "\n",
    "# TODO :: Fix my dam data (only have 400 items in total)\n",
    "# TODO :: Refactor the code to make more readable (move plasma merged logic and move files)"
   ]
  },
  {
   "cell_type": "markdown",
   "metadata": {},
   "source": [
    "### Results Visualisation"
   ]
  },
  {
   "cell_type": "code",
   "execution_count": 43,
   "metadata": {},
   "outputs": [
    {
     "data": {
      "image/png": "[encoded data removed]",
      "text/plain": [
       "<Figure size 1000x400 with 2 Axes>"
      ]
     },
     "metadata": {},
     "output_type": "display_data"
    }
   ],
   "source": [
    "sizes = [bdt_up_cm.sum(), bdt_ug_cm.sum(), bdt_am_cm.sum(), bdt_pab_cm.sum(), bdt_plasma_cm.sum()]\n",
    "categoroies = ['UPENN', 'UGOT', 'ADNI', 'ABETA', 'Plasma File']\n",
    "\n",
    "# Display the results\n",
    "display_results_graph(\"Comparison of Random Forest Approaches\", bdt_data, ovo_data, sizes)"
   ]
  },
  {
   "cell_type": "markdown",
   "metadata": {},
   "source": [
    "### Conclusions\n",
    "\n",
    "* Data collected from a few studies (plasma).\n",
    "* Comparison between different machine learning architectures.\n",
    "* Data explanation\n",
    "    * Plasma data collected from a variety of studies.\n",
    "    * Used ADNI_MERGE for DX variables\n",
    "* RF is better\n",
    "    * This may be because SVM tries to form an exact boundary where items do not lie.\n",
    "    * This is not the case in medicine.\n",
    "    * Random forest does not try to make a linear boundary\n",
    "* Plasma data is better\n",
    "    * This shows the highest accuracy.\n",
    "    * Shows that Plasma data is the best\n",
    "    * EVEN BETTER THAN ADNI MERGE.\n",
    "* Binary Decision Tree Architecture is best\n",
    "    * The results vary (perform more tests)\n",
    "    * Binary decision tree is always better\n",
    "    * However it doesn't have unclassified values\n",
    "        * This may be bad as an item is more likely to be classified wrong.\n",
    "        "
   ]
  },
  {
   "cell_type": "markdown",
   "metadata": {},
   "source": [
    "## Handling the minority class of AD\n",
    "\n",
    "Upon inspection of the data set, AD is a very under-represented group in the dataset."
   ]
  },
  {
   "cell_type": "markdown",
   "metadata": {},
   "source": [
    "### Data distribution visualisation"
   ]
  },
  {
   "cell_type": "code",
   "execution_count": 50,
   "metadata": {},
   "outputs": [
    {
     "data": {
      "image/png": "[encoded data removed]",
      "text/plain": [
       "<Figure size 640x480 with 1 Axes>"
      ]
     },
     "metadata": {},
     "output_type": "display_data"
    }
   ],
   "source": [
    "# Read the dataset\n",
    "df = pd.read_csv(\"Data/ProcessedData/PLASMA_MERGED.csv\")\n",
    "\n",
    "# Display the size of each of the groups\n",
    "sizes = [len(df[df[\"DX\"] == \"SCD\"]), len(df[df[\"DX\"] == \"MCI\"]), len(df[df[\"DX\"] == \"AD\"])]\n",
    "\n",
    "# Represent as a graph\n",
    "categoroies = [\"SCD\", \"MCI\", \"AD\"]\n",
    "plt.bar(categoroies, sizes)\n",
    "plt.xlabel('Categories')\n",
    "plt.ylabel('Set Sizes')\n",
    "plt.title('Test Data Class Distribution')\n",
    "plt.show()\n"
   ]
  },
  {
   "cell_type": "markdown",
   "metadata": {},
   "source": [
    "### Attempt Oversampling"
   ]
  },
  {
   "cell_type": "code",
   "execution_count": null,
   "metadata": {},
   "outputs": [],
   "source": [
    "# Use SMOTE :: SOURCE (https://ieeexplore.ieee.org/stamp/stamp.jsp?tp=&arnumber=8125820)\n",
    "    # Extra complexity not necessary for this case\n",
    "# How to implement SMOTE (https://towardsdatascience.com/applying-smote-for-class-imbalance-with-just-a-few-lines-of-code-python-cdf603e58688)\n",
    "\n"
   ]
  },
  {
   "cell_type": "code",
   "execution_count": 44,
   "metadata": {},
   "outputs": [],
   "source": [
    "# TODO :: Maybe make different files with different biomarkers selected\n",
    "    # TODO :: Also do feature selection.\n",
    "# TODO :: Tune hyper-parameters of RF\n",
    "# TODO :: Make More Results\n",
    "    # TODO :: Look into AUC and specificity results\n",
    "    # TODO :: Run more tests to determine best approach (BDT or OVO)\n",
    "# TODO :: Fix my dam data (only have 400 items in total)\n",
    "\n",
    "# TODO :: Minority Class -> Feature Selection -> Tune Hyperparameters"
   ]
  }
 ],
 "metadata": {
  "kernelspec": {
   "display_name": "Python 3",
   "language": "python",
   "name": "python3"
  },
  "language_info": {
   "codemirror_mode": {
    "name": "ipython",
    "version": 3
   },
   "file_extension": ".py",
   "mimetype": "text/x-python",
   "name": "python",
   "nbconvert_exporter": "python",
   "pygments_lexer": "ipython3",
   "version": "3.9.6"
  }
 },
 "nbformat": 4,
 "nbformat_minor": 2
}
