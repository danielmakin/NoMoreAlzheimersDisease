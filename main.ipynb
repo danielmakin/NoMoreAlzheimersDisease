{
 "cells": [
  {
   "cell_type": "markdown",
   "metadata": {},
   "source": [
    "# No More Alzheimer's Disease"
   ]
  },
  {
   "cell_type": "markdown",
   "metadata": {},
   "source": [
    "## General Data Processing"
   ]
  },
  {
   "cell_type": "markdown",
   "metadata": {},
   "source": [
    "### Data Downloading"
   ]
  },
  {
   "cell_type": "code",
   "execution_count": 41,
   "metadata": {},
   "outputs": [],
   "source": [
    "# Imports\n",
    "import pandas as pd\n",
    "from sklearn.model_selection import train_test_split, GridSearchCV\n",
    "from sklearn.svm import SVC\n",
    "from sklearn.metrics import accuracy_score, recall_score, f1_score, precision_score\n",
    "import numpy as np\n",
    "from tabulate import tabulate\n",
    "import matplotlib.pyplot as plt\n",
    "from imblearn.over_sampling import SMOTE\n",
    "from scipy.sparse import csr_matrix\n",
    "from sklearn.preprocessing import OneHotEncoder"
   ]
  },
  {
   "cell_type": "markdown",
   "metadata": {},
   "source": [
    "### Data Pre-Processing\n",
    "\n",
    "Each necessary file is downloaded, unnecessary fields are removed and labels are assigned."
   ]
  },
  {
   "cell_type": "code",
   "execution_count": 42,
   "metadata": {},
   "outputs": [
    {
     "name": "stderr",
     "output_type": "stream",
     "text": [
      "/var/folders/9h/tqk_65w50d95gtyf68q0hv880000gn/T/ipykernel_66629/3560888884.py:5: DtypeWarning: Columns (20,105) have mixed types. Specify dtype option on import or set low_memory=False.\n",
      "  labels = pd.read_csv('Data/ADNIMERGE_15Jun2023.csv')[['RID', 'VISCODE', 'DX']]\n",
      "/var/folders/9h/tqk_65w50d95gtyf68q0hv880000gn/T/ipykernel_66629/3560888884.py:30: DtypeWarning: Columns (20,105) have mixed types. Specify dtype option on import or set low_memory=False.\n",
      "  adni_merge = pd.read_csv(\"Data/ADNIMERGE_15Jun2023.csv\")\n"
     ]
    }
   ],
   "source": [
    "'''This function reads and does some pre-processing for the data files provided.'''\n",
    "\n",
    "ugot = pd.read_csv(\"Data/Plasma/UGOTPTAU181_06_18_20_27Nov2023.csv\")\n",
    "# Read the labels that will be used for both of the files\n",
    "labels = pd.read_csv('Data/ADNIMERGE_15Jun2023.csv')[['RID', 'VISCODE', 'DX']]\n",
    "\n",
    "\n",
    "#-------------------------UGOT------------------------------------------------------------------------\n",
    "# Now merge these two files and remove any rows that have null values\n",
    "ugot = pd.merge(ugot, labels[['RID', 'VISCODE', 'DX']], on=['RID', 'VISCODE'], how='left').dropna(subset=['RID', 'PLASMAPTAU181', 'DX'])\n",
    "# Update Stamp is not relevant for this test\n",
    "ugot.drop(['update_stamp', 'VISCODE', 'VISCODE2', 'COMMENT', 'VID', 'EXAMDATE'], axis=1, inplace=True)\n",
    "# This puts the labels in the same format used for the tests\n",
    "ugot = ugot.replace(\"Dementia\", \"AD\").replace(\"CN\", \"SCD\").reset_index(drop=True)\n",
    "ugot.to_csv(\"Data/ProcessedData/UGOT.csv\", index=False)\n",
    "\n",
    "# -------------------------UPENN----------------------------------------------------------------------\n",
    "upenn = pd.read_csv(\"Data/Plasma/UPENNPLASMA_27Nov2023.csv\")\n",
    "upenn = pd.merge(upenn, labels[['RID', 'VISCODE', 'DX']], on=['RID', 'VISCODE'], how='left').dropna()\n",
    "upenn.drop(['update_stamp', 'VISCODE'], axis=1, inplace=True)\n",
    "# This puts the labels in the same format used for the tests\n",
    "upenn = upenn.replace(\"Dementia\", \"AD\").replace(\"CN\", \"SCD\").reset_index(drop=True)\n",
    "upenn[\"AB42/AB40\"] = upenn[\"AB42\"] / upenn[\"AB40\"]\n",
    "upenn.drop(['AB42', 'AB40'], axis=1, inplace=True)\n",
    "\n",
    "upenn.to_csv(\"Data/ProcessedData/UPENN.csv\", index=False)\n",
    "\n",
    "\n",
    "# --------------------------ADNI_MERGE-----------------------------------------------------------------\n",
    "adni_merge = pd.read_csv(\"Data/ADNIMERGE_15Jun2023.csv\")\n",
    "adni_merge = adni_merge.loc[:, ~adni_merge.columns.str.endswith('_bl')]\n",
    "adni_merge = adni_merge.loc[:, ['RID', 'VISCODE', 'DX', 'MMSE', 'AGE', 'PTAU', 'TAU', 'ABETA']]\n",
    "regex_pattern = r'[<>](\\d+)'\n",
    "\n",
    "# This applies to all columns\n",
    "adni_merge = adni_merge.apply(lambda col: col.astype(str).str.replace(regex_pattern, r'\\1', regex=True))\n",
    "adni_merge = adni_merge.replace('nan', np.nan).dropna()\n",
    "\n",
    "# Change to required format and save with the viscode for feature selection later\n",
    "adni_merge = adni_merge.replace(\"CN\", \"SCD\").replace(\"Dementia\", \"AD\")\n",
    "adni_merge.to_csv(\"Data/ProcessedData/ADNIMerge_WVC.csv\")\n",
    "\n",
    "# Now save without the feature selection\n",
    "adni_merge.drop('VISCODE', inplace = True, axis = 1)\n",
    "\n",
    "# --------------------------PLASMA_ABETA_PROJECT--------------------------------------------------------\n",
    "p_ab = pd.read_csv('Data/Plasma/PLASMA_ABETA_PROJECT_ADX_VUMC_27Nov2023.csv')\n",
    "# Drop the VISCODE column and replace it with VISCODE2 (REFERENCE :: https://groups.google.com/g/adni-data/c/Dx_Rgge_XB0)\n",
    "p_ab.drop('VISCODE', inplace=True, axis=1)\n",
    "p_ab.rename(columns={'VISCODE2': 'VISCODE'}, inplace=True)\n",
    "p_ab = pd.merge(p_ab, labels[['RID', 'VISCODE', 'DX']], on=['RID', 'VISCODE'], how='left').dropna()\n",
    "p_ab = p_ab.loc[:, ['RID', 'VISCODE', 'DX', 'SEQ', 'NF_LIGHT', 'ABETA42', 'ABETA40', 'GFAP']]\n",
    "p_ab = p_ab.replace(\"CN\", \"SCD\").replace('Dementia', 'AD')\n",
    "p_ab[\"AB42/AB40\"] = p_ab[\"ABETA42\"] / p_ab[\"ABETA40\"]\n",
    "p_ab.drop(['ABETA42', 'ABETA40'], axis=1, inplace=True)\n",
    "\n",
    "p_ab.to_csv('Data/ProcessedData/Plasma_AB.csv', index = False)\n"
   ]
  },
  {
   "cell_type": "code",
   "execution_count": 40,
   "metadata": {},
   "outputs": [
    {
     "data": {
      "text/html": [
       "<div>\n",
       "<style scoped>\n",
       "    .dataframe tbody tr th:only-of-type {\n",
       "        vertical-align: middle;\n",
       "    }\n",
       "\n",
       "    .dataframe tbody tr th {\n",
       "        vertical-align: top;\n",
       "    }\n",
       "\n",
       "    .dataframe thead th {\n",
       "        text-align: right;\n",
       "    }\n",
       "</style>\n",
       "<table border=\"1\" class=\"dataframe\">\n",
       "  <thead>\n",
       "    <tr style=\"text-align: right;\">\n",
       "      <th></th>\n",
       "      <th>RID</th>\n",
       "      <th>VISCODE</th>\n",
       "      <th>DX</th>\n",
       "      <th>SEQ</th>\n",
       "      <th>NF_LIGHT</th>\n",
       "      <th>GFAP</th>\n",
       "      <th>AB40/AB42</th>\n",
       "      <th>MMSE</th>\n",
       "      <th>AGE</th>\n",
       "    </tr>\n",
       "  </thead>\n",
       "  <tbody>\n",
       "    <tr>\n",
       "      <th>0</th>\n",
       "      <td>31</td>\n",
       "      <td>m120</td>\n",
       "      <td>SCD</td>\n",
       "      <td>2.0</td>\n",
       "      <td>48.7</td>\n",
       "      <td>145.0</td>\n",
       "      <td>23.375000</td>\n",
       "      <td>30.0</td>\n",
       "      <td>77.7</td>\n",
       "    </tr>\n",
       "    <tr>\n",
       "      <th>1</th>\n",
       "      <td>138</td>\n",
       "      <td>m120</td>\n",
       "      <td>MCI</td>\n",
       "      <td>9.0</td>\n",
       "      <td>49.3</td>\n",
       "      <td>142.6</td>\n",
       "      <td>18.666667</td>\n",
       "      <td>NaN</td>\n",
       "      <td>NaN</td>\n",
       "    </tr>\n",
       "    <tr>\n",
       "      <th>2</th>\n",
       "      <td>150</td>\n",
       "      <td>m120</td>\n",
       "      <td>MCI</td>\n",
       "      <td>16.0</td>\n",
       "      <td>27.8</td>\n",
       "      <td>114.1</td>\n",
       "      <td>21.322034</td>\n",
       "      <td>NaN</td>\n",
       "      <td>NaN</td>\n",
       "    </tr>\n",
       "    <tr>\n",
       "      <th>3</th>\n",
       "      <td>214</td>\n",
       "      <td>m120</td>\n",
       "      <td>AD</td>\n",
       "      <td>17.0</td>\n",
       "      <td>28.9</td>\n",
       "      <td>107.1</td>\n",
       "      <td>17.985507</td>\n",
       "      <td>11.0</td>\n",
       "      <td>65.1</td>\n",
       "    </tr>\n",
       "    <tr>\n",
       "      <th>4</th>\n",
       "      <td>303</td>\n",
       "      <td>m132</td>\n",
       "      <td>SCD</td>\n",
       "      <td>116.0</td>\n",
       "      <td>36.9</td>\n",
       "      <td>167.4</td>\n",
       "      <td>21.760870</td>\n",
       "      <td>NaN</td>\n",
       "      <td>NaN</td>\n",
       "    </tr>\n",
       "    <tr>\n",
       "      <th>...</th>\n",
       "      <td>...</td>\n",
       "      <td>...</td>\n",
       "      <td>...</td>\n",
       "      <td>...</td>\n",
       "      <td>...</td>\n",
       "      <td>...</td>\n",
       "      <td>...</td>\n",
       "      <td>...</td>\n",
       "      <td>...</td>\n",
       "    </tr>\n",
       "    <tr>\n",
       "      <th>2441</th>\n",
       "      <td>5290</td>\n",
       "      <td>m24</td>\n",
       "      <td>NaN</td>\n",
       "      <td>NaN</td>\n",
       "      <td>NaN</td>\n",
       "      <td>NaN</td>\n",
       "      <td>NaN</td>\n",
       "      <td>30.0</td>\n",
       "      <td>67.0</td>\n",
       "    </tr>\n",
       "    <tr>\n",
       "      <th>2442</th>\n",
       "      <td>5292</td>\n",
       "      <td>bl</td>\n",
       "      <td>NaN</td>\n",
       "      <td>NaN</td>\n",
       "      <td>NaN</td>\n",
       "      <td>NaN</td>\n",
       "      <td>NaN</td>\n",
       "      <td>30.0</td>\n",
       "      <td>74.3</td>\n",
       "    </tr>\n",
       "    <tr>\n",
       "      <th>2443</th>\n",
       "      <td>5292</td>\n",
       "      <td>m24</td>\n",
       "      <td>NaN</td>\n",
       "      <td>NaN</td>\n",
       "      <td>NaN</td>\n",
       "      <td>NaN</td>\n",
       "      <td>NaN</td>\n",
       "      <td>29.0</td>\n",
       "      <td>74.3</td>\n",
       "    </tr>\n",
       "    <tr>\n",
       "      <th>2444</th>\n",
       "      <td>5295</td>\n",
       "      <td>bl</td>\n",
       "      <td>NaN</td>\n",
       "      <td>NaN</td>\n",
       "      <td>NaN</td>\n",
       "      <td>NaN</td>\n",
       "      <td>NaN</td>\n",
       "      <td>29.0</td>\n",
       "      <td>75.5</td>\n",
       "    </tr>\n",
       "    <tr>\n",
       "      <th>2445</th>\n",
       "      <td>5296</td>\n",
       "      <td>bl</td>\n",
       "      <td>NaN</td>\n",
       "      <td>NaN</td>\n",
       "      <td>NaN</td>\n",
       "      <td>NaN</td>\n",
       "      <td>NaN</td>\n",
       "      <td>29.0</td>\n",
       "      <td>69.3</td>\n",
       "    </tr>\n",
       "  </tbody>\n",
       "</table>\n",
       "<p>2446 rows × 9 columns</p>\n",
       "</div>"
      ],
      "text/plain": [
       "       RID VISCODE   DX    SEQ  NF_LIGHT   GFAP  AB40/AB42  MMSE   AGE\n",
       "0       31    m120  SCD    2.0      48.7  145.0  23.375000  30.0  77.7\n",
       "1      138    m120  MCI    9.0      49.3  142.6  18.666667   NaN   NaN\n",
       "2      150    m120  MCI   16.0      27.8  114.1  21.322034   NaN   NaN\n",
       "3      214    m120   AD   17.0      28.9  107.1  17.985507  11.0  65.1\n",
       "4      303    m132  SCD  116.0      36.9  167.4  21.760870   NaN   NaN\n",
       "...    ...     ...  ...    ...       ...    ...        ...   ...   ...\n",
       "2441  5290     m24  NaN    NaN       NaN    NaN        NaN  30.0  67.0\n",
       "2442  5292      bl  NaN    NaN       NaN    NaN        NaN  30.0  74.3\n",
       "2443  5292     m24  NaN    NaN       NaN    NaN        NaN  29.0  74.3\n",
       "2444  5295      bl  NaN    NaN       NaN    NaN        NaN  29.0  75.5\n",
       "2445  5296      bl  NaN    NaN       NaN    NaN        NaN  29.0  69.3\n",
       "\n",
       "[2446 rows x 9 columns]"
      ]
     },
     "execution_count": 40,
     "metadata": {},
     "output_type": "execute_result"
    }
   ],
   "source": [
    "## TRY TO MERGE ADNI_MERGE W/ PLASMA_AB\n",
    "p_ab = pd.read_csv('Data/ProcessedData/Plasma_AB.csv')\n",
    "am = pd.read_csv('Data/ProcessedData/ADNIMerge_WVC.csv')\n",
    "\n",
    "# NOW MERGE BASED ON RID AND VISCODE\n",
    "merged_df = pd.merge(p_ab, am[['RID', 'VISCODE', 'MMSE', 'AGE']], on=['RID', 'VISCODE'],how = 'outer')\n",
    "\n",
    "merged_df.to_csv('Data/TempViewedFile.csv')\n",
    "\n",
    "merged_df"
   ]
  },
  {
   "cell_type": "code",
   "execution_count": 3,
   "metadata": {},
   "outputs": [
    {
     "name": "stderr",
     "output_type": "stream",
     "text": [
      "/var/folders/9h/tqk_65w50d95gtyf68q0hv880000gn/T/ipykernel_66629/65040932.py:28: DtypeWarning: Columns (20,105) have mixed types. Specify dtype option on import or set low_memory=False.\n",
      "  labels = pd.read_csv('Data/ADNIMERGE_15Jun2023.csv')[['RID', 'VISCODE', 'DX']]\n"
     ]
    }
   ],
   "source": [
    "# Read each of the files and select the useful fields\n",
    "\n",
    "blen = pd.read_csv('Data/Plasma/ADNI_BLENNOWPLASMANFL_10_03_18_27Nov2023.csv')[['RID', 'VISCODE2', 'PLASMA_NFL']]\n",
    "fnih = pd.read_csv('Data/Plasma/FNIH_PLASMA_PTAU181_PROJECT_27Nov2023.csv')[['RID', 'VISCODE2', 'PTAU_181']]\n",
    "#??????\n",
    "# fuji = pd.read_csv('Data/Plasma/FUJIREBIOABETAPLASMA_06Dec2023.csv')[['RID', 'VISCODE2', 'PTAU_181']]\n",
    "#??????\n",
    "plasmaab = pd.read_csv('Data/Plasma/PLASMA_ABETA_PROJECT_ADX_VUMC_27Nov2023.csv')[['RID', 'VISCODE2', 'NF_LIGHT', 'ABETA42', 'ABETA40', 'GFAP']]\n",
    "ugot = pd.read_csv('Data/Plasma/UGOTPTAU181_06_18_20_27Nov2023.csv')[['RID', 'VISCODE2', 'PLASMAPTAU181']] # RENAME PTAU\n",
    "dian = pd.read_csv('Data/Plasma/UPENNPLASMA_27Nov2023.csv')[['RID', 'VISCODE', 'AB40', 'AB42']]\n",
    "\n",
    "# Rename all of the VISCODE2 => VISCODE for merging (REFERENCE :: https://groups.google.com/g/adni-data/c/Dx_Rgge_XB0)\n",
    "blen.rename(columns={'VISCODE2': 'VISCODE'}, inplace=True)\n",
    "fnih.rename(columns={'VISCODE2': 'VISCODE'}, inplace=True)\n",
    "plasmaab.rename(columns={'VISCODE2': 'VISCODE'}, inplace=True)\n",
    "ugot.rename(columns={'VISCODE2': 'VISCODE'}, inplace=True)\n",
    "\n",
    "# Rename PLASMAPTAU181 => PTAU_181 for merging\n",
    "ugot.rename(columns={'PLASMAPTAU181' : 'PTAU_181'}, inplace=True)\n",
    "\n",
    "# Attempt to merge\n",
    "df = pd.merge(blen, fnih, on=['RID', 'VISCODE'], how='outer')\n",
    "df = pd.merge(df, plasmaab, on=['RID', 'VISCODE'], how='outer')\n",
    "df = pd.merge(df, ugot, on=['RID', 'VISCODE'], how='outer')\n",
    "df = pd.merge(df, dian, on=['RID', 'VISCODE'], how='outer')\n",
    "\n",
    "# Now assign a label to each item\n",
    "labels = pd.read_csv('Data/ADNIMERGE_15Jun2023.csv')[['RID', 'VISCODE', 'DX']]\n",
    "df = pd.merge(df, labels[['RID', 'VISCODE', 'DX']], on=['RID', 'VISCODE'], how='left').replace('CN', 'SCD').replace('Dementia', 'AD')\n",
    "\n",
    "# Remove any items that couldn't be classified\n",
    "df = df.dropna(subset=['DX'])\n",
    "\n",
    "# Make a copy of the file before the VISCODE entry is removed for later reasons\n",
    "df.to_csv(\"Data/ProcessedData/ALL_PLASMA_WVC.csv\")\n",
    "df.drop(\"VISCODE\", inplace=True, axis=1)\n",
    "\n",
    "# Store the data to a .csv for easier analysis\n",
    "df.to_csv('Data/ProcessedData/ALL_PLASMA_MERGED.csv', index = False)\n",
    "\n",
    "# Now select the plasma biomarkers required and remove any ones with null fields\n",
    "\n",
    "df = df[['PTAU_181_x', 'NF_LIGHT', 'ABETA42', 'ABETA40', 'GFAP', 'DX']].dropna()\n",
    "df.to_csv('Data/ProcessedData/PLASMA_MERGED.csv', index=False)"
   ]
  },
  {
   "cell_type": "markdown",
   "metadata": {},
   "source": [
    "### General Functions"
   ]
  },
  {
   "cell_type": "code",
   "execution_count": 4,
   "metadata": {},
   "outputs": [],
   "source": [
    "def getXy(df):\n",
    "    '''\n",
    "    Seperate the label from the feature data.\n",
    "    \n",
    "    Args : \n",
    "        df (DataFrame) : The data to be seperated\n",
    "    Returns :\n",
    "        X (DataFrame) : The feature data.\n",
    "        y (list) : The labels associated.'''\n",
    "    \n",
    "    # Independant\n",
    "    X = df.drop(\"DX\", axis=1).values\n",
    "    # Dependant\n",
    "    y = df[\"DX\"].values\n",
    "\n",
    "    return X, y"
   ]
  },
  {
   "cell_type": "markdown",
   "metadata": {},
   "source": [
    "### SVM Approach\n",
    "\n",
    "Use Cross Validation to find what parameters suit this problem the best"
   ]
  },
  {
   "cell_type": "code",
   "execution_count": 5,
   "metadata": {},
   "outputs": [
    {
     "name": "stdout",
     "output_type": "stream",
     "text": [
      "Best Parameters:  {'C': 100, 'decision_function_shape': 'ovr', 'degree': 2, 'kernel': 'rbf'}\n",
      "Best Score:  0.5841523049897925\n"
     ]
    }
   ],
   "source": [
    "svm = SVC()\n",
    "\n",
    "X, y = getXy(pd.read_csv('Data/ProcessedData/PLASMA_MERGED.csv'))\n",
    "# Split the data into training and testing sets\n",
    "X_train, X_test, y_train, y_test = train_test_split(X, y, test_size=0.2, random_state=42)\n",
    "\n",
    "# These are the parameters that will be trialled\n",
    "param_grid = {\n",
    "    'C' : [0.001, 0.01, 0.1, 1, 10, 100],\n",
    "    'kernel' : ['linear', 'poly', 'rbf'],\n",
    "    'degree' : [2, 3, 4],\n",
    "    'decision_function_shape' : ['ovr', 'ovo']\n",
    "}\n",
    "\n",
    "# Runs every possible combination and gets the best\n",
    "grid_search = GridSearchCV(estimator=svm, param_grid=param_grid, cv=3, scoring='accuracy')\n",
    "\n",
    "grid_search.fit(X_train, y_train)\n",
    "\n",
    "# Display the best parameters and best accuracy\n",
    "print(\"Best Parameters: \", grid_search.best_params_)\n",
    "print(\"Best Score: \", grid_search.best_score_)"
   ]
  },
  {
   "cell_type": "code",
   "execution_count": 6,
   "metadata": {},
   "outputs": [
    {
     "data": {
      "text/plain": [
       "Text(0, 0.5, 'Accuracy')"
      ]
     },
     "execution_count": 6,
     "metadata": {},
     "output_type": "execute_result"
    },
    {
     "data": {
      "image/png": "[encoded data removed]",
      "text/plain": [
       "<Figure size 1000x400 with 4 Axes>"
      ]
     },
     "metadata": {},
     "output_type": "display_data"
    }
   ],
   "source": [
    "results = pd.DataFrame(grid_search.cv_results_)\n",
    "\n",
    "fig, axis = plt.subplots(nrows=2, ncols=2, figsize=(10, 4))\n",
    "fig.suptitle(\"Trends for the change of Hyper-Parameters\")\n",
    "\n",
    "c = results.groupby('param_C')['mean_test_score']\n",
    "plt.subplot(2, 2, 1)\n",
    "plt.plot(param_grid['C'], c.mean(), color='blue', marker='o')\n",
    "plt.errorbar(param_grid['C'], c.mean(), yerr=c.std(), color='orange')\n",
    "plt.xlabel(\"C value\")\n",
    "plt.ylabel(\"Accuracy\")\n",
    "plt.xscale('log')\n",
    "\n",
    "kernel = results.groupby('param_kernel')['mean_test_score']\n",
    "plt.subplot(2, 2, 2)\n",
    "plt.scatter(param_grid['kernel'], kernel.mean())\n",
    "plt.errorbar(param_grid['kernel'], kernel.mean(), yerr=kernel.std(), color='orange')\n",
    "plt.xlabel(\"Kernel\")\n",
    "plt.ylabel(\"Accuracy\")\n",
    "\n",
    "degrees = results.groupby('param_degree')['mean_test_score']\n",
    "plt.subplot(2, 2, 3)\n",
    "plt.scatter(['2', '3', '4'], degrees.mean())\n",
    "plt.errorbar(['2', '3', '4'], degrees.mean(), yerr=degrees.std(), color='orange')\n",
    "plt.xlabel(\"Degree\")\n",
    "plt.ylabel(\"Accuracy\")\n",
    "\n",
    "shape = results.groupby('param_decision_function_shape')['mean_test_score']\n",
    "plt.subplot(2, 2, 4)\n",
    "plt.scatter(param_grid['decision_function_shape'], shape.mean())\n",
    "plt.errorbar(param_grid['decision_function_shape'], shape.mean(), yerr=shape.std(), color='orange')\n",
    "plt.xlabel(\"Shape\")\n",
    "plt.ylabel(\"Accuracy\")\n",
    "\n",
    "# TODO :: Comment and fix the fact that there is no x label for top grpahs\n",
    "# TODO :: See if the loss function cab be printed"
   ]
  },
  {
   "cell_type": "markdown",
   "metadata": {},
   "source": [
    "## Test for these hyper-parameters"
   ]
  },
  {
   "cell_type": "code",
   "execution_count": 7,
   "metadata": {},
   "outputs": [
    {
     "name": "stdout",
     "output_type": "stream",
     "text": [
      "Best Parameters {'C': 100, 'decision_function_shape': 'ovr', 'degree': 2, 'kernel': 'rbf'}\n",
      "Accuracy is 0.6555555555555556\n",
      "Recall was [0.46153846 0.81578947 0.56410256]\n"
     ]
    }
   ],
   "source": [
    "print(\"Best Parameters \" + str(grid_search.best_params_))\n",
    "\n",
    "# Creates a SVC object with the best parameters selected.\n",
    "test_classifier = SVC(\n",
    "    C = grid_search.best_params_['C'],\n",
    "    decision_function_shape = grid_search.best_params_['decision_function_shape'],\n",
    "    degree = grid_search.best_params_['degree'],\n",
    "    kernel = grid_search.best_params_['kernel']\n",
    ")\n",
    "\n",
    "# Runs a test to find the accuracy of the model\n",
    "test_classifier.fit(X_train, y_train)\n",
    "\n",
    "y_testresult = test_classifier.predict(X_test)\n",
    "\n",
    "print(\"Accuracy is \" + str(accuracy_score(y_test, y_testresult)))\n",
    "print(\"Recall was \" + str(recall_score(y_test, y_testresult, average=None)))"
   ]
  },
  {
   "cell_type": "markdown",
   "metadata": {},
   "source": [
    "### Binary Decision Tree SVM Classifier"
   ]
  },
  {
   "cell_type": "markdown",
   "metadata": {},
   "source": [
    "# Random Forest Approach"
   ]
  },
  {
   "cell_type": "code",
   "execution_count": 6,
   "metadata": {},
   "outputs": [],
   "source": [
    "from sklearn.ensemble import RandomForestClassifier"
   ]
  },
  {
   "cell_type": "code",
   "execution_count": 15,
   "metadata": {},
   "outputs": [
    {
     "data": {
      "text/html": [
       "<style>#sk-container-id-2 {color: black;}#sk-container-id-2 pre{padding: 0;}#sk-container-id-2 div.sk-toggleable {background-color: white;}#sk-container-id-2 label.sk-toggleable__label {cursor: pointer;display: block;width: 100%;margin-bottom: 0;padding: 0.3em;box-sizing: border-box;text-align: center;}#sk-container-id-2 label.sk-toggleable__label-arrow:before {content: \"▸\";float: left;margin-right: 0.25em;color: #696969;}#sk-container-id-2 label.sk-toggleable__label-arrow:hover:before {color: black;}#sk-container-id-2 div.sk-estimator:hover label.sk-toggleable__label-arrow:before {color: black;}#sk-container-id-2 div.sk-toggleable__content {max-height: 0;max-width: 0;overflow: hidden;text-align: left;background-color: #f0f8ff;}#sk-container-id-2 div.sk-toggleable__content pre {margin: 0.2em;color: black;border-radius: 0.25em;background-color: #f0f8ff;}#sk-container-id-2 input.sk-toggleable__control:checked~div.sk-toggleable__content {max-height: 200px;max-width: 100%;overflow: auto;}#sk-container-id-2 input.sk-toggleable__control:checked~label.sk-toggleable__label-arrow:before {content: \"▾\";}#sk-container-id-2 div.sk-estimator input.sk-toggleable__control:checked~label.sk-toggleable__label {background-color: #d4ebff;}#sk-container-id-2 div.sk-label input.sk-toggleable__control:checked~label.sk-toggleable__label {background-color: #d4ebff;}#sk-container-id-2 input.sk-hidden--visually {border: 0;clip: rect(1px 1px 1px 1px);clip: rect(1px, 1px, 1px, 1px);height: 1px;margin: -1px;overflow: hidden;padding: 0;position: absolute;width: 1px;}#sk-container-id-2 div.sk-estimator {font-family: monospace;background-color: #f0f8ff;border: 1px dotted black;border-radius: 0.25em;box-sizing: border-box;margin-bottom: 0.5em;}#sk-container-id-2 div.sk-estimator:hover {background-color: #d4ebff;}#sk-container-id-2 div.sk-parallel-item::after {content: \"\";width: 100%;border-bottom: 1px solid gray;flex-grow: 1;}#sk-container-id-2 div.sk-label:hover label.sk-toggleable__label {background-color: #d4ebff;}#sk-container-id-2 div.sk-serial::before {content: \"\";position: absolute;border-left: 1px solid gray;box-sizing: border-box;top: 0;bottom: 0;left: 50%;z-index: 0;}#sk-container-id-2 div.sk-serial {display: flex;flex-direction: column;align-items: center;background-color: white;padding-right: 0.2em;padding-left: 0.2em;position: relative;}#sk-container-id-2 div.sk-item {position: relative;z-index: 1;}#sk-container-id-2 div.sk-parallel {display: flex;align-items: stretch;justify-content: center;background-color: white;position: relative;}#sk-container-id-2 div.sk-item::before, #sk-container-id-2 div.sk-parallel-item::before {content: \"\";position: absolute;border-left: 1px solid gray;box-sizing: border-box;top: 0;bottom: 0;left: 50%;z-index: -1;}#sk-container-id-2 div.sk-parallel-item {display: flex;flex-direction: column;z-index: 1;position: relative;background-color: white;}#sk-container-id-2 div.sk-parallel-item:first-child::after {align-self: flex-end;width: 50%;}#sk-container-id-2 div.sk-parallel-item:last-child::after {align-self: flex-start;width: 50%;}#sk-container-id-2 div.sk-parallel-item:only-child::after {width: 0;}#sk-container-id-2 div.sk-dashed-wrapped {border: 1px dashed gray;margin: 0 0.4em 0.5em 0.4em;box-sizing: border-box;padding-bottom: 0.4em;background-color: white;}#sk-container-id-2 div.sk-label label {font-family: monospace;font-weight: bold;display: inline-block;line-height: 1.2em;}#sk-container-id-2 div.sk-label-container {text-align: center;}#sk-container-id-2 div.sk-container {/* jupyter's `normalize.less` sets `[hidden] { display: none; }` but bootstrap.min.css set `[hidden] { display: none !important; }` so we also need the `!important` here to be able to override the default hidden behavior on the sphinx rendered scikit-learn.org. See: https://github.com/scikit-learn/scikit-learn/issues/21755 */display: inline-block !important;position: relative;}#sk-container-id-2 div.sk-text-repr-fallback {display: none;}</style><div id=\"sk-container-id-2\" class=\"sk-top-container\"><div class=\"sk-text-repr-fallback\"><pre>GridSearchCV(cv=3, estimator=RandomForestClassifier(),\n",
       "             param_grid={&#x27;bootstrap&#x27;: [True, False],\n",
       "                         &#x27;class_weight&#x27;: [&#x27;balanced&#x27;, &#x27;balanced_subsample&#x27;],\n",
       "                         &#x27;criterion&#x27;: [&#x27;gini&#x27;, &#x27;entropy&#x27;, &#x27;log_loss&#x27;],\n",
       "                         &#x27;n_estimators&#x27;: [50, 100, 150, 200, 250, 300]},\n",
       "             scoring=&#x27;accuracy&#x27;)</pre><b>In a Jupyter environment, please rerun this cell to show the HTML representation or trust the notebook. <br />On GitHub, the HTML representation is unable to render, please try loading this page with nbviewer.org.</b></div><div class=\"sk-container\" hidden><div class=\"sk-item sk-dashed-wrapped\"><div class=\"sk-label-container\"><div class=\"sk-label sk-toggleable\"><input class=\"sk-toggleable__control sk-hidden--visually\" id=\"sk-estimator-id-4\" type=\"checkbox\" ><label for=\"sk-estimator-id-4\" class=\"sk-toggleable__label sk-toggleable__label-arrow\">GridSearchCV</label><div class=\"sk-toggleable__content\"><pre>GridSearchCV(cv=3, estimator=RandomForestClassifier(),\n",
       "             param_grid={&#x27;bootstrap&#x27;: [True, False],\n",
       "                         &#x27;class_weight&#x27;: [&#x27;balanced&#x27;, &#x27;balanced_subsample&#x27;],\n",
       "                         &#x27;criterion&#x27;: [&#x27;gini&#x27;, &#x27;entropy&#x27;, &#x27;log_loss&#x27;],\n",
       "                         &#x27;n_estimators&#x27;: [50, 100, 150, 200, 250, 300]},\n",
       "             scoring=&#x27;accuracy&#x27;)</pre></div></div></div><div class=\"sk-parallel\"><div class=\"sk-parallel-item\"><div class=\"sk-item\"><div class=\"sk-label-container\"><div class=\"sk-label sk-toggleable\"><input class=\"sk-toggleable__control sk-hidden--visually\" id=\"sk-estimator-id-5\" type=\"checkbox\" ><label for=\"sk-estimator-id-5\" class=\"sk-toggleable__label sk-toggleable__label-arrow\">estimator: RandomForestClassifier</label><div class=\"sk-toggleable__content\"><pre>RandomForestClassifier()</pre></div></div></div><div class=\"sk-serial\"><div class=\"sk-item\"><div class=\"sk-estimator sk-toggleable\"><input class=\"sk-toggleable__control sk-hidden--visually\" id=\"sk-estimator-id-6\" type=\"checkbox\" ><label for=\"sk-estimator-id-6\" class=\"sk-toggleable__label sk-toggleable__label-arrow\">RandomForestClassifier</label><div class=\"sk-toggleable__content\"><pre>RandomForestClassifier()</pre></div></div></div></div></div></div></div></div></div></div>"
      ],
      "text/plain": [
       "GridSearchCV(cv=3, estimator=RandomForestClassifier(),\n",
       "             param_grid={'bootstrap': [True, False],\n",
       "                         'class_weight': ['balanced', 'balanced_subsample'],\n",
       "                         'criterion': ['gini', 'entropy', 'log_loss'],\n",
       "                         'n_estimators': [50, 100, 150, 200, 250, 300]},\n",
       "             scoring='accuracy')"
      ]
     },
     "execution_count": 15,
     "metadata": {},
     "output_type": "execute_result"
    }
   ],
   "source": [
    "# Create the test object\n",
    "rf = RandomForestClassifier()\n",
    "\n",
    "# Re-read the dataframe\n",
    "df = pd.read_csv(\"Data/ProcessedData/Plasma_AB.csv\")\n",
    "df = df.drop(\"RID\", axis=1)\n",
    "\n",
    "X, y = getXy(df)\n",
    "\n",
    "# Split for a 20% testing\n",
    "X_train, X_test, y_train, y_test = train_test_split(X, y, test_size=0.2, random_state=42)\n",
    "\n",
    "# Now we create the grid of params we need to test\n",
    "param_grid = {\n",
    "    'n_estimators' : [50, 100, 150, 200, 250, 300],\n",
    "    'criterion' : ['gini', 'entropy', 'log_loss'],\n",
    "    'bootstrap' : [True, False],\n",
    "    'class_weight' : ['balanced', 'balanced_subsample']\n",
    "}\n",
    "\n",
    "# Create the test Object and fit\n",
    "grid_search = GridSearchCV(estimator=rf, param_grid=param_grid, cv=3, scoring='accuracy')\n",
    "grid_search.fit(X_train, y_train)"
   ]
  },
  {
   "cell_type": "code",
   "execution_count": 20,
   "metadata": {},
   "outputs": [
    {
     "name": "stdout",
     "output_type": "stream",
     "text": [
      "{'bootstrap': False, 'class_weight': 'balanced_subsample', 'criterion': 'log_loss', 'n_estimators': 150}\n"
     ]
    },
    {
     "data": {
      "text/plain": [
       "0.5238095238095238"
      ]
     },
     "execution_count": 20,
     "metadata": {},
     "output_type": "execute_result"
    }
   ],
   "source": [
    "print(grid_search.best_params_)\n",
    "grid_search.best_score_"
   ]
  },
  {
   "cell_type": "code",
   "execution_count": 21,
   "metadata": {},
   "outputs": [
    {
     "data": {
      "text/plain": [
       "Text(0, 0.5, 'Accuracy')"
      ]
     },
     "execution_count": 21,
     "metadata": {},
     "output_type": "execute_result"
    },
    {
     "data": {
      "image/png": "[encoded data removed]",
      "text/plain": [
       "<Figure size 1000x400 with 4 Axes>"
      ]
     },
     "metadata": {},
     "output_type": "display_data"
    }
   ],
   "source": [
    "# Plot the results as well as the Standard Dev. of each with the changing parameters\n",
    "\n",
    "results = pd.DataFrame(grid_search.cv_results_)\n",
    "\n",
    "fig, axis = plt.subplots(nrows=2, ncols=2, figsize=(10, 4))\n",
    "fig.suptitle(\"Trends for the change of Hyper-Parameters\")\n",
    "\n",
    "n = results.groupby('param_n_estimators')['mean_test_score']\n",
    "plt.subplot(2, 2, 1)\n",
    "plt.plot(param_grid['n_estimators'], n.mean(), color='blue', marker='o')\n",
    "plt.errorbar(param_grid['n_estimators'], n.mean(), yerr=n.std(), color='orange')\n",
    "plt.xlabel(\"Estimators Amount\")\n",
    "plt.ylabel(\"Accuracy\")\n",
    "\n",
    "bs = results.groupby('param_bootstrap')['mean_test_score']\n",
    "plt.subplot(2, 2, 2)\n",
    "plt.scatter(['False', 'True'], bs.mean())\n",
    "plt.errorbar(['False', 'True'], bs.mean(), yerr=bs.std(), color='orange')\n",
    "plt.xlabel(\"Bootstrapping Value\")\n",
    "plt.ylabel(\"Accuracy\")\n",
    "\n",
    "c = results.groupby('param_criterion')['mean_test_score']\n",
    "plt.subplot(2, 2, 3)\n",
    "plt.scatter(param_grid['criterion'], c.mean())\n",
    "plt.errorbar(param_grid['criterion'], c.mean(), yerr=c.std(), color='orange')\n",
    "plt.xlabel(\"Criterion Value\")\n",
    "plt.ylabel(\"Accuracy\")\n",
    "\n",
    "cw = results.groupby('param_class_weight')['mean_test_score']\n",
    "plt.subplot(2, 2, 4)\n",
    "plt.scatter(param_grid['class_weight'], cw.mean())\n",
    "plt.errorbar(param_grid['class_weight'], cw.mean(), yerr=cw.std(), color='orange')\n",
    "plt.xlabel(\"Class Weight\")\n",
    "plt.ylabel(\"Accuracy\")"
   ]
  },
  {
   "cell_type": "code",
   "execution_count": 22,
   "metadata": {},
   "outputs": [
    {
     "name": "stdout",
     "output_type": "stream",
     "text": [
      "Best Parameters {'bootstrap': False, 'class_weight': 'balanced_subsample', 'criterion': 'log_loss', 'n_estimators': 150}\n",
      "Accuracy is 0.47619047619047616\n",
      "+-----------+----------+----------+------+\n",
      "|           |      SCD |      MCI |   AD |\n",
      "+===========+==========+==========+======+\n",
      "| Recall    | 0.571429 | 0.545455 |    0 |\n",
      "+-----------+----------+----------+------+\n",
      "| Precision | 0.5      | 0.666667 |    0 |\n",
      "+-----------+----------+----------+------+\n",
      "| F1 Score  | 0.533333 | 0.6      |    0 |\n",
      "+-----------+----------+----------+------+\n"
     ]
    }
   ],
   "source": [
    "print(\"Best Parameters \" + str(grid_search.best_params_))\n",
    "\n",
    "# Creates a SVC object with the best parameters selected.\n",
    "test_classifier = RandomForestClassifier(\n",
    "    bootstrap = grid_search.best_params_['bootstrap'],\n",
    "    n_estimators = grid_search.best_params_['n_estimators'],\n",
    "    class_weight = grid_search.best_params_['class_weight'],\n",
    "    criterion = grid_search.best_params_['criterion'],\n",
    "    random_state = 42 # Ensure reprodcibility\n",
    ")\n",
    "\n",
    "# Runs a test to find the accuracy of the model\n",
    "test_classifier.fit(X_train, y_train)\n",
    "\n",
    "y_testresult = test_classifier.predict(X_test)\n",
    "\n",
    "# Print the test results\n",
    "print(\"Accuracy is \" + str(accuracy_score(y_test, y_testresult)))\n",
    "# Get the recall and metrics for each class\n",
    "recall = list(recall_score(y_test, y_testresult, average=None, labels=['SCD', 'MCI', 'AD']))\n",
    "precision = list(precision_score(y_test, y_testresult, average=None, labels=['SCD', 'MCI', 'AD']))\n",
    "f1 = list(f1_score(y_test, y_testresult, average=None, labels=['SCD', 'MCI', 'AD']))\n",
    "\n",
    "data = [[\"Recall\"] + recall]\n",
    "data.append([\"Precision\"] + precision)\n",
    "data.append([\"F1 Score\"] + f1)\n",
    "\n",
    "labels = sorted(set(y_test))  # Gets the order of the labels\n",
    "\n",
    "\n",
    "\n",
    "table = tabulate(data, ['', 'SCD', 'MCI', 'AD'], tablefmt=\"grid\")\n",
    "print(table)\n",
    "\n",
    "# print(confusion_matrix(y_test, y_testresult, labels=['SCD', 'MCI', 'AD']))\n",
    "\n",
    "# Maybe BC there is the most MCI"
   ]
  },
  {
   "cell_type": "markdown",
   "metadata": {},
   "source": [
    "## Handling the minority class of AD\n",
    "\n",
    "Upon inspection of the data set, AD is a very under-represented group in the dataset."
   ]
  },
  {
   "cell_type": "markdown",
   "metadata": {},
   "source": [
    "### Data distribution visualisation"
   ]
  },
  {
   "cell_type": "code",
   "execution_count": 13,
   "metadata": {},
   "outputs": [
    {
     "data": {
      "image/png": "[encoded data removed]",
      "text/plain": [
       "<Figure size 640x480 with 1 Axes>"
      ]
     },
     "metadata": {},
     "output_type": "display_data"
    }
   ],
   "source": [
    "# Read the dataset\n",
    "df = pd.read_csv(\"Data/ProcessedData/PLASMA_MERGED.csv\")\n",
    "\n",
    "# Display the size of each of the groups\n",
    "sizes = [len(df[df[\"DX\"] == \"SCD\"]), len(df[df[\"DX\"] == \"MCI\"]), len(df[df[\"DX\"] == \"AD\"])]\n",
    "\n",
    "# Represent as a graph\n",
    "categories = [\"SCD\", \"MCI\", \"AD\"]\n",
    "plt.bar(categories, sizes)\n",
    "plt.xlabel('Categories')\n",
    "plt.ylabel('Class Sizes')\n",
    "plt.title('Test Data Class Distribution')\n",
    "plt.show()\n"
   ]
  },
  {
   "cell_type": "markdown",
   "metadata": {},
   "source": [
    "### SMOTE Oversampling"
   ]
  },
  {
   "cell_type": "code",
   "execution_count": 14,
   "metadata": {},
   "outputs": [
    {
     "data": {
      "image/png": "[encoded data removed]",
      "text/plain": [
       "<Figure size 640x480 with 1 Axes>"
      ]
     },
     "metadata": {},
     "output_type": "display_data"
    }
   ],
   "source": [
    "# Use SMOTE :: SOURCE (https://ieeexplore.ieee.org/stamp/stamp.jsp?tp=&arnumber=8125820)\n",
    "    # Extra complexity not necessary for this case\n",
    "# How to implement SMOTE (https://towardsdatascience.com/applying-smote-for-class-imbalance-with-just-a-few-lines-of-code-python-cdf603e58688)\n",
    "\n",
    "sm = SMOTE(random_state=42)\n",
    "\n",
    "X, y = getXy(df)\n",
    "\n",
    "# Oversample the minority classes\n",
    "X, y = sm.fit_resample(X, y)\n",
    "\n",
    "\n",
    "# Display the size of each of the groups\n",
    "sizes = [np.count_nonzero(y == \"SCD\"), np.count_nonzero(y == \"MCI\"), np.count_nonzero(y == \"AD\")]\n",
    "\n",
    "# Represent as a graph\n",
    "categoroies = [\"SCD\", \"MCI\", \"AD\"]\n",
    "plt.bar(categoroies, sizes)\n",
    "plt.xlabel('Categories')\n",
    "plt.ylabel('Class Sizes')\n",
    "plt.title('Post SMOTE Test Data Class Distribution')\n",
    "plt.show()\n"
   ]
  },
  {
   "cell_type": "markdown",
   "metadata": {},
   "source": [
    "## Test Data Model"
   ]
  },
  {
   "cell_type": "code",
   "execution_count": 15,
   "metadata": {},
   "outputs": [
    {
     "name": "stdout",
     "output_type": "stream",
     "text": [
      "Best Parameters {'bootstrap': False, 'class_weight': 'balanced', 'criterion': 'log_loss', 'n_estimators': 50}\n",
      "\n",
      "Testing accuracy is 0.9833333333333333\n",
      "Training accuracy is 1.0\n",
      "\n",
      "TEST ACCURACY\n",
      "+-----------+----------+----------+----------+\n",
      "|           |      SCD |      MCI |       AD |\n",
      "+===========+==========+==========+==========+\n",
      "| Recall    | 0.979167 | 1        | 0.973684 |\n",
      "+-----------+----------+----------+----------+\n",
      "| Precision | 1        | 0.944444 | 1        |\n",
      "+-----------+----------+----------+----------+\n",
      "| F1 Score  | 0.989474 | 0.971429 | 0.986667 |\n",
      "+-----------+----------+----------+----------+\n"
     ]
    }
   ],
   "source": [
    "# This re-associates the features with the labels\n",
    "df = pd.DataFrame(data=np.column_stack((X, y)), columns=list(df.drop(\"DX\", axis=1).columns) + [\"DX\"])\n",
    "\n",
    "# Get X and y\n",
    "X, y = getXy(df)\n",
    "\n",
    "print(\"Best Parameters \" + str(grid_search.best_params_))\n",
    "\n",
    "# Split for a 20% testing\n",
    "X_train, X_test, y_train, y_test = train_test_split(X, y, test_size=0.20, random_state=42)\n",
    "\n",
    "# Creates a SVC object with the best parameters selected.\n",
    "test_classifier = RandomForestClassifier(\n",
    "    bootstrap = grid_search.best_params_['bootstrap'],\n",
    "    n_estimators = grid_search.best_params_['n_estimators'],\n",
    "    class_weight = grid_search.best_params_['class_weight'],\n",
    "    criterion = grid_search.best_params_['criterion'],\n",
    "    random_state = 42, # Ensure reproducibility\n",
    ")\n",
    "\n",
    "# Runs a test to find the accuracy of the model\n",
    "test_classifier.fit(X_train, y_train)\n",
    "\n",
    "y_testresult = test_classifier.predict(X_test)\n",
    "# Calculate the training error\n",
    "y_trainresult = test_classifier.predict(X_train)\n",
    "\n",
    "# Print the test results\n",
    "print(\"\\nTesting accuracy is \" + str(accuracy_score(y_test, y_testresult)))\n",
    "print(\"Training accuracy is \" + str(accuracy_score(y_train, y_trainresult)))\n",
    "\n",
    "# Get the recall and metrics for each class\n",
    "recall = list(recall_score(y_test, y_testresult, average=None, labels=['SCD', 'MCI', 'AD']))\n",
    "precision = list(precision_score(y_test, y_testresult, average=None, labels=['SCD', 'MCI', 'AD']))\n",
    "f1 = list(f1_score(y_test, y_testresult, average=None, labels=['SCD', 'MCI', 'AD']))\n",
    "\n",
    "print()\n",
    "# Get all of the data in array forms\n",
    "data = [[\"Recall\"] + recall]\n",
    "data.append([\"Precision\"] + precision)\n",
    "data.append([\"F1 Score\"] + f1)\n",
    "\n",
    "print(\"TEST ACCURACY\")\n",
    "table = tabulate(data, ['', 'SCD', 'MCI', 'AD'], tablefmt=\"grid\")\n",
    "print(table)\n",
    "\n"
   ]
  },
  {
   "cell_type": "markdown",
   "metadata": {},
   "source": [
    "## Feature Importance"
   ]
  },
  {
   "cell_type": "code",
   "execution_count": 18,
   "metadata": {},
   "outputs": [
    {
     "data": {
      "text/plain": [
       "Text(0, 0.5, 'Relative Importance')"
      ]
     },
     "execution_count": 18,
     "metadata": {},
     "output_type": "execute_result"
    },
    {
     "data": {
      "image/png": "[encoded data removed]",
      "text/plain": [
       "<Figure size 640x480 with 1 Axes>"
      ]
     },
     "metadata": {},
     "output_type": "display_data"
    }
   ],
   "source": [
    "# Get the importance of each feature in this classifier\n",
    "importances = test_classifier.feature_importances_\n",
    "\n",
    "# Now plot these\n",
    "plt.bar(df.columns[:-1], importances)\n",
    "plt.title(\"Feature Importance\")\n",
    "plt.xlabel(\"Feature\")\n",
    "plt.ylabel(\"Relative Importance\")"
   ]
  },
  {
   "cell_type": "markdown",
   "metadata": {},
   "source": [
    "## Create a master file"
   ]
  },
  {
   "cell_type": "code",
   "execution_count": 26,
   "metadata": {},
   "outputs": [
    {
     "data": {
      "text/html": [
       "<div>\n",
       "<style scoped>\n",
       "    .dataframe tbody tr th:only-of-type {\n",
       "        vertical-align: middle;\n",
       "    }\n",
       "\n",
       "    .dataframe tbody tr th {\n",
       "        vertical-align: top;\n",
       "    }\n",
       "\n",
       "    .dataframe thead th {\n",
       "        text-align: right;\n",
       "    }\n",
       "</style>\n",
       "<table border=\"1\" class=\"dataframe\">\n",
       "  <thead>\n",
       "    <tr style=\"text-align: right;\">\n",
       "      <th></th>\n",
       "      <th>RID</th>\n",
       "      <th>PLASMA_NFL</th>\n",
       "      <th>PTAU_181_x</th>\n",
       "      <th>NF_LIGHT</th>\n",
       "      <th>ABETA42</th>\n",
       "      <th>ABETA40</th>\n",
       "      <th>GFAP</th>\n",
       "      <th>PTAU_181_y</th>\n",
       "      <th>AB40</th>\n",
       "      <th>AB42</th>\n",
       "      <th>DX</th>\n",
       "    </tr>\n",
       "  </thead>\n",
       "  <tbody>\n",
       "    <tr>\n",
       "      <th>0</th>\n",
       "      <td>2</td>\n",
       "      <td>28.2</td>\n",
       "      <td>NaN</td>\n",
       "      <td>NaN</td>\n",
       "      <td>NaN</td>\n",
       "      <td>NaN</td>\n",
       "      <td>NaN</td>\n",
       "      <td>NaN</td>\n",
       "      <td>153.7</td>\n",
       "      <td>50.9</td>\n",
       "      <td>SCD</td>\n",
       "    </tr>\n",
       "    <tr>\n",
       "      <th>1</th>\n",
       "      <td>3</td>\n",
       "      <td>188.3</td>\n",
       "      <td>NaN</td>\n",
       "      <td>NaN</td>\n",
       "      <td>NaN</td>\n",
       "      <td>NaN</td>\n",
       "      <td>NaN</td>\n",
       "      <td>NaN</td>\n",
       "      <td>263.3</td>\n",
       "      <td>58.1</td>\n",
       "      <td>AD</td>\n",
       "    </tr>\n",
       "    <tr>\n",
       "      <th>2</th>\n",
       "      <td>4</td>\n",
       "      <td>31.2</td>\n",
       "      <td>NaN</td>\n",
       "      <td>NaN</td>\n",
       "      <td>NaN</td>\n",
       "      <td>NaN</td>\n",
       "      <td>NaN</td>\n",
       "      <td>NaN</td>\n",
       "      <td>192.0</td>\n",
       "      <td>59.8</td>\n",
       "      <td>MCI</td>\n",
       "    </tr>\n",
       "    <tr>\n",
       "      <th>3</th>\n",
       "      <td>5</td>\n",
       "      <td>36.3</td>\n",
       "      <td>NaN</td>\n",
       "      <td>NaN</td>\n",
       "      <td>NaN</td>\n",
       "      <td>NaN</td>\n",
       "      <td>NaN</td>\n",
       "      <td>NaN</td>\n",
       "      <td>246.1</td>\n",
       "      <td>46.7</td>\n",
       "      <td>SCD</td>\n",
       "    </tr>\n",
       "    <tr>\n",
       "      <th>4</th>\n",
       "      <td>6</td>\n",
       "      <td>52.5</td>\n",
       "      <td>NaN</td>\n",
       "      <td>NaN</td>\n",
       "      <td>NaN</td>\n",
       "      <td>NaN</td>\n",
       "      <td>NaN</td>\n",
       "      <td>NaN</td>\n",
       "      <td>289.0</td>\n",
       "      <td>44.3</td>\n",
       "      <td>MCI</td>\n",
       "    </tr>\n",
       "    <tr>\n",
       "      <th>...</th>\n",
       "      <td>...</td>\n",
       "      <td>...</td>\n",
       "      <td>...</td>\n",
       "      <td>...</td>\n",
       "      <td>...</td>\n",
       "      <td>...</td>\n",
       "      <td>...</td>\n",
       "      <td>...</td>\n",
       "      <td>...</td>\n",
       "      <td>...</td>\n",
       "      <td>...</td>\n",
       "    </tr>\n",
       "    <tr>\n",
       "      <th>6702</th>\n",
       "      <td>1409</td>\n",
       "      <td>NaN</td>\n",
       "      <td>NaN</td>\n",
       "      <td>NaN</td>\n",
       "      <td>NaN</td>\n",
       "      <td>NaN</td>\n",
       "      <td>NaN</td>\n",
       "      <td>NaN</td>\n",
       "      <td>130.1</td>\n",
       "      <td>33.0</td>\n",
       "      <td>AD</td>\n",
       "    </tr>\n",
       "    <tr>\n",
       "      <th>6703</th>\n",
       "      <td>1417</td>\n",
       "      <td>NaN</td>\n",
       "      <td>NaN</td>\n",
       "      <td>NaN</td>\n",
       "      <td>NaN</td>\n",
       "      <td>NaN</td>\n",
       "      <td>NaN</td>\n",
       "      <td>NaN</td>\n",
       "      <td>129.9</td>\n",
       "      <td>40.0</td>\n",
       "      <td>MCI</td>\n",
       "    </tr>\n",
       "    <tr>\n",
       "      <th>6704</th>\n",
       "      <td>1423</td>\n",
       "      <td>NaN</td>\n",
       "      <td>NaN</td>\n",
       "      <td>NaN</td>\n",
       "      <td>NaN</td>\n",
       "      <td>NaN</td>\n",
       "      <td>NaN</td>\n",
       "      <td>NaN</td>\n",
       "      <td>143.5</td>\n",
       "      <td>32.4</td>\n",
       "      <td>AD</td>\n",
       "    </tr>\n",
       "    <tr>\n",
       "      <th>6705</th>\n",
       "      <td>1426</td>\n",
       "      <td>NaN</td>\n",
       "      <td>NaN</td>\n",
       "      <td>NaN</td>\n",
       "      <td>NaN</td>\n",
       "      <td>NaN</td>\n",
       "      <td>NaN</td>\n",
       "      <td>NaN</td>\n",
       "      <td>153.2</td>\n",
       "      <td>38.4</td>\n",
       "      <td>MCI</td>\n",
       "    </tr>\n",
       "    <tr>\n",
       "      <th>6706</th>\n",
       "      <td>1426</td>\n",
       "      <td>NaN</td>\n",
       "      <td>NaN</td>\n",
       "      <td>NaN</td>\n",
       "      <td>NaN</td>\n",
       "      <td>NaN</td>\n",
       "      <td>NaN</td>\n",
       "      <td>NaN</td>\n",
       "      <td>142.9</td>\n",
       "      <td>37.9</td>\n",
       "      <td>MCI</td>\n",
       "    </tr>\n",
       "  </tbody>\n",
       "</table>\n",
       "<p>6707 rows × 11 columns</p>\n",
       "</div>"
      ],
      "text/plain": [
       "       RID  PLASMA_NFL  PTAU_181_x  NF_LIGHT  ABETA42  ABETA40  GFAP  \\\n",
       "0        2        28.2         NaN       NaN      NaN      NaN   NaN   \n",
       "1        3       188.3         NaN       NaN      NaN      NaN   NaN   \n",
       "2        4        31.2         NaN       NaN      NaN      NaN   NaN   \n",
       "3        5        36.3         NaN       NaN      NaN      NaN   NaN   \n",
       "4        6        52.5         NaN       NaN      NaN      NaN   NaN   \n",
       "...    ...         ...         ...       ...      ...      ...   ...   \n",
       "6702  1409         NaN         NaN       NaN      NaN      NaN   NaN   \n",
       "6703  1417         NaN         NaN       NaN      NaN      NaN   NaN   \n",
       "6704  1423         NaN         NaN       NaN      NaN      NaN   NaN   \n",
       "6705  1426         NaN         NaN       NaN      NaN      NaN   NaN   \n",
       "6706  1426         NaN         NaN       NaN      NaN      NaN   NaN   \n",
       "\n",
       "      PTAU_181_y   AB40  AB42   DX  \n",
       "0            NaN  153.7  50.9  SCD  \n",
       "1            NaN  263.3  58.1   AD  \n",
       "2            NaN  192.0  59.8  MCI  \n",
       "3            NaN  246.1  46.7  SCD  \n",
       "4            NaN  289.0  44.3  MCI  \n",
       "...          ...    ...   ...  ...  \n",
       "6702         NaN  130.1  33.0   AD  \n",
       "6703         NaN  129.9  40.0  MCI  \n",
       "6704         NaN  143.5  32.4   AD  \n",
       "6705         NaN  153.2  38.4  MCI  \n",
       "6706         NaN  142.9  37.9  MCI  \n",
       "\n",
       "[6707 rows x 11 columns]"
      ]
     },
     "execution_count": 26,
     "metadata": {},
     "output_type": "execute_result"
    }
   ],
   "source": [
    "# Read the two files involved\n",
    "\n",
    "plasma = pd.read_csv(\"Data/ProcessedData/ALL_PLASMA_MERGED.csv\")\n",
    "\n",
    "# Merge based on VISCODE\n",
    "plasma"
   ]
  },
  {
   "cell_type": "markdown",
   "metadata": {},
   "source": [
    "## Sparse Data Selection"
   ]
  },
  {
   "cell_type": "code",
   "execution_count": 27,
   "metadata": {},
   "outputs": [],
   "source": [
    "# SOURCE :: https://ro.ecu.edu.au/cgi/viewcontent.cgi?article=1654&context=ecuworkspost2013\n",
    "#           https://www.kaggle.com/code/adizafar/feature-selection-using-genetic-algorithm\n",
    "\n",
    "# Get the plasma data and merge it with the ADNI data.\n",
    "plasma = pd.read_csv(\"Data/ProcessedData/ALL_PLASMA_WVC.csv\")\n",
    "adni = pd.read_csv(\"Data/ProcessedData/ADNIMerge_WVC.csv\")\n",
    "\n",
    "# Now merge the data together\n",
    "df = adni.merge(plasma, how = \"outer\")\n",
    "# Drop unnamed column\n",
    "df = df.drop(df.columns[df.columns.str.contains('^Unnamed')], axis=1)\n",
    "\n",
    "df.to_csv(\"Data/ProcessedData/FeatureSelectionData.csv\", index = False)\n"
   ]
  },
  {
   "cell_type": "code",
   "execution_count": 28,
   "metadata": {},
   "outputs": [],
   "source": [
    "# Read the entire CSV\n",
    "df = pd.read_csv(\"Data/ProcessedData/FeatureSelectionData.csv\")\n",
    "df.drop([\"VISCODE\", \"RID\"], inplace = True, axis = 1)\n",
    "\n",
    "df.fillna(0, inplace = True)\n",
    "\n",
    "# Convert to sparse matrix\n",
    "X, y = getXy(df)\n",
    "X = csr_matrix(X)\n",
    "\n",
    "# Train the random forest\n",
    "X_train, X_test, y_train, y_test = train_test_split(X, y, test_size = 0.2, random_state = 42)\n"
   ]
  },
  {
   "cell_type": "code",
   "execution_count": 29,
   "metadata": {},
   "outputs": [
    {
     "name": "stdout",
     "output_type": "stream",
     "text": [
      "[[ 20.    81.3   22.83 ...   0.     0.     0.  ]\n",
      " [ 17.    81.3   24.18 ...   0.     0.     0.  ]\n",
      " [ 27.    67.5   13.29 ...   0.     0.     0.  ]\n",
      " ...\n",
      " [  0.     0.     0.   ...   0.   143.5   32.4 ]\n",
      " [  0.     0.     0.   ...   0.   153.2   38.4 ]\n",
      " [  0.     0.     0.   ...   0.   142.9   37.9 ]]\n"
     ]
    },
    {
     "data": {
      "text/html": [
       "<style>#sk-container-id-2 {color: black;}#sk-container-id-2 pre{padding: 0;}#sk-container-id-2 div.sk-toggleable {background-color: white;}#sk-container-id-2 label.sk-toggleable__label {cursor: pointer;display: block;width: 100%;margin-bottom: 0;padding: 0.3em;box-sizing: border-box;text-align: center;}#sk-container-id-2 label.sk-toggleable__label-arrow:before {content: \"▸\";float: left;margin-right: 0.25em;color: #696969;}#sk-container-id-2 label.sk-toggleable__label-arrow:hover:before {color: black;}#sk-container-id-2 div.sk-estimator:hover label.sk-toggleable__label-arrow:before {color: black;}#sk-container-id-2 div.sk-toggleable__content {max-height: 0;max-width: 0;overflow: hidden;text-align: left;background-color: #f0f8ff;}#sk-container-id-2 div.sk-toggleable__content pre {margin: 0.2em;color: black;border-radius: 0.25em;background-color: #f0f8ff;}#sk-container-id-2 input.sk-toggleable__control:checked~div.sk-toggleable__content {max-height: 200px;max-width: 100%;overflow: auto;}#sk-container-id-2 input.sk-toggleable__control:checked~label.sk-toggleable__label-arrow:before {content: \"▾\";}#sk-container-id-2 div.sk-estimator input.sk-toggleable__control:checked~label.sk-toggleable__label {background-color: #d4ebff;}#sk-container-id-2 div.sk-label input.sk-toggleable__control:checked~label.sk-toggleable__label {background-color: #d4ebff;}#sk-container-id-2 input.sk-hidden--visually {border: 0;clip: rect(1px 1px 1px 1px);clip: rect(1px, 1px, 1px, 1px);height: 1px;margin: -1px;overflow: hidden;padding: 0;position: absolute;width: 1px;}#sk-container-id-2 div.sk-estimator {font-family: monospace;background-color: #f0f8ff;border: 1px dotted black;border-radius: 0.25em;box-sizing: border-box;margin-bottom: 0.5em;}#sk-container-id-2 div.sk-estimator:hover {background-color: #d4ebff;}#sk-container-id-2 div.sk-parallel-item::after {content: \"\";width: 100%;border-bottom: 1px solid gray;flex-grow: 1;}#sk-container-id-2 div.sk-label:hover label.sk-toggleable__label {background-color: #d4ebff;}#sk-container-id-2 div.sk-serial::before {content: \"\";position: absolute;border-left: 1px solid gray;box-sizing: border-box;top: 0;bottom: 0;left: 50%;z-index: 0;}#sk-container-id-2 div.sk-serial {display: flex;flex-direction: column;align-items: center;background-color: white;padding-right: 0.2em;padding-left: 0.2em;position: relative;}#sk-container-id-2 div.sk-item {position: relative;z-index: 1;}#sk-container-id-2 div.sk-parallel {display: flex;align-items: stretch;justify-content: center;background-color: white;position: relative;}#sk-container-id-2 div.sk-item::before, #sk-container-id-2 div.sk-parallel-item::before {content: \"\";position: absolute;border-left: 1px solid gray;box-sizing: border-box;top: 0;bottom: 0;left: 50%;z-index: -1;}#sk-container-id-2 div.sk-parallel-item {display: flex;flex-direction: column;z-index: 1;position: relative;background-color: white;}#sk-container-id-2 div.sk-parallel-item:first-child::after {align-self: flex-end;width: 50%;}#sk-container-id-2 div.sk-parallel-item:last-child::after {align-self: flex-start;width: 50%;}#sk-container-id-2 div.sk-parallel-item:only-child::after {width: 0;}#sk-container-id-2 div.sk-dashed-wrapped {border: 1px dashed gray;margin: 0 0.4em 0.5em 0.4em;box-sizing: border-box;padding-bottom: 0.4em;background-color: white;}#sk-container-id-2 div.sk-label label {font-family: monospace;font-weight: bold;display: inline-block;line-height: 1.2em;}#sk-container-id-2 div.sk-label-container {text-align: center;}#sk-container-id-2 div.sk-container {/* jupyter's `normalize.less` sets `[hidden] { display: none; }` but bootstrap.min.css set `[hidden] { display: none !important; }` so we also need the `!important` here to be able to override the default hidden behavior on the sphinx rendered scikit-learn.org. See: https://github.com/scikit-learn/scikit-learn/issues/21755 */display: inline-block !important;position: relative;}#sk-container-id-2 div.sk-text-repr-fallback {display: none;}</style><div id=\"sk-container-id-2\" class=\"sk-top-container\"><div class=\"sk-text-repr-fallback\"><pre>GridSearchCV(cv=3, estimator=RandomForestClassifier(),\n",
       "             param_grid={&#x27;bootstrap&#x27;: [True, False],\n",
       "                         &#x27;class_weight&#x27;: [&#x27;balanced&#x27;, &#x27;balanced_subsample&#x27;],\n",
       "                         &#x27;criterion&#x27;: [&#x27;gini&#x27;, &#x27;entropy&#x27;, &#x27;log_loss&#x27;],\n",
       "                         &#x27;n_estimators&#x27;: [50, 100, 150, 200, 250, 300]},\n",
       "             scoring=&#x27;accuracy&#x27;)</pre><b>In a Jupyter environment, please rerun this cell to show the HTML representation or trust the notebook. <br />On GitHub, the HTML representation is unable to render, please try loading this page with nbviewer.org.</b></div><div class=\"sk-container\" hidden><div class=\"sk-item sk-dashed-wrapped\"><div class=\"sk-label-container\"><div class=\"sk-label sk-toggleable\"><input class=\"sk-toggleable__control sk-hidden--visually\" id=\"sk-estimator-id-4\" type=\"checkbox\" ><label for=\"sk-estimator-id-4\" class=\"sk-toggleable__label sk-toggleable__label-arrow\">GridSearchCV</label><div class=\"sk-toggleable__content\"><pre>GridSearchCV(cv=3, estimator=RandomForestClassifier(),\n",
       "             param_grid={&#x27;bootstrap&#x27;: [True, False],\n",
       "                         &#x27;class_weight&#x27;: [&#x27;balanced&#x27;, &#x27;balanced_subsample&#x27;],\n",
       "                         &#x27;criterion&#x27;: [&#x27;gini&#x27;, &#x27;entropy&#x27;, &#x27;log_loss&#x27;],\n",
       "                         &#x27;n_estimators&#x27;: [50, 100, 150, 200, 250, 300]},\n",
       "             scoring=&#x27;accuracy&#x27;)</pre></div></div></div><div class=\"sk-parallel\"><div class=\"sk-parallel-item\"><div class=\"sk-item\"><div class=\"sk-label-container\"><div class=\"sk-label sk-toggleable\"><input class=\"sk-toggleable__control sk-hidden--visually\" id=\"sk-estimator-id-5\" type=\"checkbox\" ><label for=\"sk-estimator-id-5\" class=\"sk-toggleable__label sk-toggleable__label-arrow\">estimator: RandomForestClassifier</label><div class=\"sk-toggleable__content\"><pre>RandomForestClassifier()</pre></div></div></div><div class=\"sk-serial\"><div class=\"sk-item\"><div class=\"sk-estimator sk-toggleable\"><input class=\"sk-toggleable__control sk-hidden--visually\" id=\"sk-estimator-id-6\" type=\"checkbox\" ><label for=\"sk-estimator-id-6\" class=\"sk-toggleable__label sk-toggleable__label-arrow\">RandomForestClassifier</label><div class=\"sk-toggleable__content\"><pre>RandomForestClassifier()</pre></div></div></div></div></div></div></div></div></div></div>"
      ],
      "text/plain": [
       "GridSearchCV(cv=3, estimator=RandomForestClassifier(),\n",
       "             param_grid={'bootstrap': [True, False],\n",
       "                         'class_weight': ['balanced', 'balanced_subsample'],\n",
       "                         'criterion': ['gini', 'entropy', 'log_loss'],\n",
       "                         'n_estimators': [50, 100, 150, 200, 250, 300]},\n",
       "             scoring='accuracy')"
      ]
     },
     "execution_count": 29,
     "metadata": {},
     "output_type": "execute_result"
    }
   ],
   "source": [
    "# Create the test object\n",
    "rf = RandomForestClassifier()\n",
    "\n",
    "# Re-read the dataframe\n",
    "X, y = getXy(df)\n",
    "\n",
    "print(X)\n",
    "\n",
    "# Split for a 20% testing\n",
    "X_train, X_test, y_train, y_test = train_test_split(X, y, test_size=0.2, random_state=42)\n",
    "\n",
    "# Now we create the grid of params we need to test\n",
    "param_grid = {\n",
    "    'n_estimators' : [50, 100, 150, 200, 250, 300],\n",
    "    'criterion' : ['gini', 'entropy', 'log_loss'],\n",
    "    'bootstrap' : [True, False],\n",
    "    'class_weight' : ['balanced', 'balanced_subsample']\n",
    "}\n",
    "\n",
    "# Create the test Object and fit\n",
    "grid_search = GridSearchCV(estimator=rf, param_grid=param_grid, cv=3, scoring='accuracy')\n",
    "grid_search.fit(X_train, y_train)"
   ]
  },
  {
   "cell_type": "code",
   "execution_count": 30,
   "metadata": {},
   "outputs": [
    {
     "name": "stdout",
     "output_type": "stream",
     "text": [
      "{'bootstrap': False, 'class_weight': 'balanced_subsample', 'criterion': 'log_loss', 'n_estimators': 200}\n",
      "0.4811905746176106\n"
     ]
    }
   ],
   "source": [
    "print(grid_search.best_params_)\n",
    "print(grid_search.best_score_)"
   ]
  },
  {
   "cell_type": "code",
   "execution_count": 31,
   "metadata": {},
   "outputs": [
    {
     "name": "stdout",
     "output_type": "stream",
     "text": [
      "\n",
      "TEST ACCURACY : 0.474931129476584\n",
      "+-----------+----------+----------+----------+\n",
      "|           |      SCD |      MCI |       AD |\n",
      "+===========+==========+==========+==========+\n",
      "| Recall    | 0.429253 | 0.532819 | 0.435208 |\n",
      "+-----------+----------+----------+----------+\n",
      "| Precision | 0.475352 | 0.502427 | 0.420804 |\n",
      "+-----------+----------+----------+----------+\n",
      "| F1 Score  | 0.451128 | 0.517177 | 0.427885 |\n",
      "+-----------+----------+----------+----------+\n"
     ]
    }
   ],
   "source": [
    "# Test with these hyper-parameters\n",
    "# Creates a SVC object with the best parameters selected.\n",
    "test_classifier = RandomForestClassifier(\n",
    "    bootstrap = grid_search.best_params_['bootstrap'],\n",
    "    n_estimators = grid_search.best_params_['n_estimators'],\n",
    "    class_weight = grid_search.best_params_['class_weight'],\n",
    "    criterion = grid_search.best_params_['criterion'],\n",
    "    random_state = 42, # Ensure reproducibility\n",
    ")\n",
    "\n",
    "# Fit the classifier\n",
    "test_classifier.fit(X_train, y_train)\n",
    "\n",
    "# Predict what these classes should be\n",
    "y_pred = test_classifier.predict(X_test)\n",
    "\n",
    "# Get the accuracy measures\n",
    "# Get the recall and metrics for each class\n",
    "recall = list(recall_score(y_test, y_pred, average = None, labels = ['SCD', 'MCI', 'AD']))\n",
    "precision = list(precision_score(y_test, y_pred, average = None, labels = ['SCD', 'MCI', 'AD']))\n",
    "f1 = list(f1_score(y_test, y_pred, average = None, labels = ['SCD', 'MCI', 'AD']))\n",
    "\n",
    "print()\n",
    "# Get all of the data in array forms\n",
    "data = [[\"Recall\"] + recall]\n",
    "data.append([\"Precision\"] + precision)\n",
    "data.append([\"F1 Score\"] + f1)\n",
    "\n",
    "# Print the table\n",
    "print(\"TEST ACCURACY : \" + str(accuracy_score(y_test, y_pred)))\n",
    "table = tabulate(data, ['', 'SCD', 'MCI', 'AD'], tablefmt = \"grid\")\n",
    "print(table)\n",
    "\n"
   ]
  },
  {
   "cell_type": "code",
   "execution_count": 32,
   "metadata": {},
   "outputs": [
    {
     "data": {
      "text/plain": [
       "Text(0, 0.5, 'Relative Importance')"
      ]
     },
     "execution_count": 32,
     "metadata": {},
     "output_type": "execute_result"
    },
    {
     "data": {
      "image/png": "[encoded data removed]",
      "text/plain": [
       "<Figure size 1500x500 with 1 Axes>"
      ]
     },
     "metadata": {},
     "output_type": "display_data"
    }
   ],
   "source": [
    "# Feature importance\n",
    "# Get the importance of each feature in this classifier\n",
    "importances = test_classifier.feature_importances_\n",
    "\n",
    "plt.figure(figsize=(15, 5))\n",
    "\n",
    "# Now plot these\n",
    "plt.bar(df.columns[1:], importances)\n",
    "plt.title(\"Feature Importance\")\n",
    "plt.xlabel(\"Feature\")\n",
    "plt.ylabel(\"Relative Importance\")"
   ]
  },
  {
   "cell_type": "code",
   "execution_count": 131,
   "metadata": {},
   "outputs": [],
   "source": [
    "# TODO :: Do Feature Selection\n",
    "# TODO :: Investigate about data sizes affecting graph above\n",
    "# TODO :: Make sure all patients are seperate"
   ]
  }
 ],
 "metadata": {
  "kernelspec": {
   "display_name": "Python 3",
   "language": "python",
   "name": "python3"
  },
  "language_info": {
   "codemirror_mode": {
    "name": "ipython",
    "version": 3
   },
   "file_extension": ".py",
   "mimetype": "text/x-python",
   "name": "python",
   "nbconvert_exporter": "python",
   "pygments_lexer": "ipython3",
   "version": "3.9.6"
  }
 },
 "nbformat": 4,
 "nbformat_minor": 2
}
