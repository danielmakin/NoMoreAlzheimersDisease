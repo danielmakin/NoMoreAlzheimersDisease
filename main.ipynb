{
 "cells": [
  {
   "cell_type": "markdown",
   "metadata": {},
   "source": [
    "# No More Alzheimer's Disease"
   ]
  },
  {
   "cell_type": "markdown",
   "metadata": {},
   "source": [
    "## Pre-Processing\n",
    "\n",
    "Reads all of the files and attempts to merge them based on the *VISCODE* and *RID* attributes."
   ]
  },
  {
   "cell_type": "code",
   "execution_count": 2,
   "metadata": {},
   "outputs": [
    {
     "name": "stdout",
     "output_type": "stream",
     "text": [
      "['ADNI_BLENNOWPLASMANFL_10_03_18_27Nov2023.csv', 'Archive ADNI_BLENNOWPLASMANFL_27Nov2023.csv', 'FNIH_PLASMA_PTAU181_PROJECT_27Nov2023.csv', 'PLASMA_ABETA_PROJECT_ADX_VUMC_27Nov2023.csv', 'UGOTPTAU181_06_18_20_27Nov2023.csv', 'UPENNPLASMA_27Nov2023.csv']\n",
      "   RID VISCODE VISCODE2_0  EXAMDATE_0 BOX_POS_0    VOL_0  PLASMA_NFL_0  \\\n",
      "0    2      bl         bl  2005-09-08      1-21  0.50 ML          28.2   \n",
      "1    3      bl         bl  2005-09-12      1-22  0.50 ML         188.3   \n",
      "2    4      bl         bl  2005-11-08      1-09  0.50 ML          31.2   \n",
      "3    5      bl         bl  2005-09-07      1-20  0.50 ML          36.3   \n",
      "4    6      bl         bl  2005-11-29      1-03  0.50 ML          52.5   \n",
      "\n",
      "  COMMENTS_0         update_stamp_0 VISCODE2_1  ... update_stamp_3 VISCODE2  \\\n",
      "0        NaN  2018-10-05 09:07:12.0         bl  ...            NaN      NaN   \n",
      "1        NaN  2018-10-05 09:07:12.0         bl  ...            NaN      NaN   \n",
      "2        NaN  2018-10-05 09:07:12.0         bl  ...            NaN      NaN   \n",
      "3        NaN  2018-10-05 09:07:12.0         bl  ...            NaN      NaN   \n",
      "4        NaN  2018-10-05 09:07:12.0         bl  ...            NaN      NaN   \n",
      "\n",
      "  EXAMDATE  VID_4 PLASMAPTAU181 COMMENT update_stamp_4   AB40  AB42  \\\n",
      "0      NaN    NaN           NaN     NaN            NaN  153.7  50.9   \n",
      "1      NaN    NaN           NaN     NaN            NaN  263.3  58.1   \n",
      "2      NaN    NaN           NaN     NaN            NaN  192.0  59.8   \n",
      "3      NaN    NaN           NaN     NaN            NaN  246.1  46.7   \n",
      "4      NaN    NaN           NaN     NaN            NaN  289.0  44.3   \n",
      "\n",
      "          update_stamp_5  \n",
      "0  2011-05-19 16:18:59.0  \n",
      "1  2011-05-19 16:18:59.0  \n",
      "2  2011-05-19 16:18:59.0  \n",
      "3  2011-05-19 16:18:59.0  \n",
      "4  2011-05-19 16:18:59.0  \n",
      "\n",
      "[5 rows x 48 columns]\n"
     ]
    }
   ],
   "source": [
    "# Imports\n",
    "import os\n",
    "import pandas as pd\n",
    "\n",
    "def read_all_files(directory=\"Data/Plasma\", axis=[\"VISCODE\", \"RID\"]):\n",
    "    '''\n",
    "        This reads all of the .csv files in the directory and outputs them. \n",
    "        \n",
    "        Args : directory(String) : the path of the files to be read\n",
    "        Returns : data(DataFrame) : The sum of the dataframes.'''\n",
    "\n",
    "    # Get the name of every file in the directory\n",
    "    files = os.listdir(directory)\n",
    "    csv_files = list(filter(lambda f: f.endswith('.csv'), files))\n",
    "\n",
    "    print(csv_files)\n",
    "\n",
    "    df = pd.read_csv(directory + \"/\" + csv_files[0])\n",
    "\n",
    "    # Read all of the file directories in the folder\n",
    "    for i in range(1, len(csv_files)):\n",
    "        temp_df = pd.read_csv(directory + \"/\" + csv_files[i])\n",
    "        # df should be meregd with the previously constructed one\n",
    "        df = pd.merge(df, temp_df, on=axis, suffixes=('_' + str(i-1), '_' + str(i)), how=\"outer\")\n",
    "\n",
    "\n",
    "    print(df.head())\n",
    "\n",
    "\n",
    "\n",
    "\n",
    "read_all_files()\n",
    "    \n"
   ]
  }
 ],
 "metadata": {
  "kernelspec": {
   "display_name": "Python 3",
   "language": "python",
   "name": "python3"
  },
  "language_info": {
   "codemirror_mode": {
    "name": "ipython",
    "version": 3
   },
   "file_extension": ".py",
   "mimetype": "text/x-python",
   "name": "python",
   "nbconvert_exporter": "python",
   "pygments_lexer": "ipython3",
   "version": "3.11.6"
  }
 },
 "nbformat": 4,
 "nbformat_minor": 2
}
